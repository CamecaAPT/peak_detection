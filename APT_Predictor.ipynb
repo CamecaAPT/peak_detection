{
  "cells": [
    {
      "cell_type": "markdown",
      "id": "df2c4c69-20e3-420b-b96d-a9eb616a7eec",
      "metadata": {
        "id": "df2c4c69-20e3-420b-b96d-a9eb616a7eec"
      },
      "source": [
        "# This notebook is a demonstration of running the combined peak ranging and peak ion identification ML models\n",
        "\n",
        "Ryan Jacobs, based on original code from Jingrui Wei\n",
        "\n",
        "Last updated: 4/16/25 by Ryan Jacobs\n"
      ]
    },
    {
      "cell_type": "code",
      "execution_count": 1,
      "id": "48a561d5-4c29-4f07-9491-a3510ff7bbb5",
      "metadata": {
        "colab": {
          "base_uri": "https://localhost:8080/"
        },
        "id": "48a561d5-4c29-4f07-9491-a3510ff7bbb5",
        "outputId": "cadcbf07-b28b-4777-f868-81aa6ea3a75a"
      },
      "outputs": [
        {
          "output_type": "stream",
          "name": "stdout",
          "text": [
            "Mounted at /content/drive\n"
          ]
        }
      ],
      "source": [
        "# Link Google drive\n",
        "\n",
        "from google.colab import drive\n",
        "drive.mount('/content/drive')"
      ]
    },
    {
      "cell_type": "code",
      "execution_count": 2,
      "id": "6dda0817-04cb-42af-b3f0-f37fe84597d8",
      "metadata": {
        "colab": {
          "base_uri": "https://localhost:8080/"
        },
        "id": "6dda0817-04cb-42af-b3f0-f37fe84597d8",
        "outputId": "c67f92de-85f3-486a-a9a2-f2bdf318e406"
      },
      "outputs": [
        {
          "output_type": "stream",
          "name": "stdout",
          "text": [
            "Cloning into 'peak_detection'...\n",
            "remote: Enumerating objects: 535, done.\u001b[K\n",
            "remote: Counting objects: 100% (86/86), done.\u001b[K\n",
            "remote: Compressing objects: 100% (78/78), done.\u001b[K\n",
            "remote: Total 535 (delta 40), reused 21 (delta 7), pack-reused 449 (from 1)\u001b[K\n",
            "Receiving objects: 100% (535/535), 56.26 MiB | 24.08 MiB/s, done.\n",
            "Resolving deltas: 100% (286/286), done.\n"
          ]
        }
      ],
      "source": [
        "# Clone repo\n",
        "\n",
        "!git clone https://github.com/uw-cmg/peak_detection"
      ]
    },
    {
      "cell_type": "code",
      "execution_count": 3,
      "id": "a64be6cc-191f-44fd-ab6b-c1e3a22b1664",
      "metadata": {
        "colab": {
          "base_uri": "https://localhost:8080/",
          "height": 1000
        },
        "id": "a64be6cc-191f-44fd-ab6b-c1e3a22b1664",
        "outputId": "c1e80089-38c4-4468-90c7-bdc32e031572"
      },
      "outputs": [
        {
          "output_type": "stream",
          "name": "stdout",
          "text": [
            "Collecting torch==2.1.2 (from -r peak_detection/requirements.txt (line 1))\n",
            "  Downloading torch-2.1.2-cp311-cp311-manylinux1_x86_64.whl.metadata (25 kB)\n",
            "Collecting torchvision==0.16.2 (from -r peak_detection/requirements.txt (line 2))\n",
            "  Downloading torchvision-0.16.2-cp311-cp311-manylinux1_x86_64.whl.metadata (6.6 kB)\n",
            "Collecting numpy==1.23.5 (from -r peak_detection/requirements.txt (line 3))\n",
            "  Downloading numpy-1.23.5-cp311-cp311-manylinux_2_17_x86_64.manylinux2014_x86_64.whl.metadata (2.3 kB)\n",
            "Requirement already satisfied: matplotlib in /usr/local/lib/python3.11/dist-packages (from -r peak_detection/requirements.txt (line 4)) (3.10.0)\n",
            "Requirement already satisfied: scikit-image in /usr/local/lib/python3.11/dist-packages (from -r peak_detection/requirements.txt (line 5)) (0.25.2)\n",
            "Requirement already satisfied: scikit-learn==1.6.1 in /usr/local/lib/python3.11/dist-packages (from -r peak_detection/requirements.txt (line 6)) (1.6.1)\n",
            "Collecting apav==1.4.0 (from -r peak_detection/requirements.txt (line 7))\n",
            "  Downloading APAV-1.4.0.tar.gz (57.3 MB)\n",
            "\u001b[2K     \u001b[90m━━━━━━━━━━━━━━━━━━━━━━━━━━━━━━━━━━━━━━━━\u001b[0m \u001b[32m57.3/57.3 MB\u001b[0m \u001b[31m14.0 MB/s\u001b[0m eta \u001b[36m0:00:00\u001b[0m\n",
            "\u001b[?25h  Installing build dependencies ... \u001b[?25l\u001b[?25hdone\n",
            "  Getting requirements to build wheel ... \u001b[?25l\u001b[?25hdone\n",
            "  Preparing metadata (pyproject.toml) ... \u001b[?25l\u001b[?25hdone\n",
            "Requirement already satisfied: h5py in /usr/local/lib/python3.11/dist-packages (from -r peak_detection/requirements.txt (line 8)) (3.13.0)\n",
            "Requirement already satisfied: pandas in /usr/local/lib/python3.11/dist-packages (from -r peak_detection/requirements.txt (line 9)) (2.2.2)\n",
            "Requirement already satisfied: tqdm in /usr/local/lib/python3.11/dist-packages (from -r peak_detection/requirements.txt (line 10)) (4.67.1)\n",
            "Requirement already satisfied: filelock in /usr/local/lib/python3.11/dist-packages (from torch==2.1.2->-r peak_detection/requirements.txt (line 1)) (3.18.0)\n",
            "Requirement already satisfied: typing-extensions in /usr/local/lib/python3.11/dist-packages (from torch==2.1.2->-r peak_detection/requirements.txt (line 1)) (4.13.1)\n",
            "Requirement already satisfied: sympy in /usr/local/lib/python3.11/dist-packages (from torch==2.1.2->-r peak_detection/requirements.txt (line 1)) (1.13.1)\n",
            "Requirement already satisfied: networkx in /usr/local/lib/python3.11/dist-packages (from torch==2.1.2->-r peak_detection/requirements.txt (line 1)) (3.4.2)\n",
            "Requirement already satisfied: jinja2 in /usr/local/lib/python3.11/dist-packages (from torch==2.1.2->-r peak_detection/requirements.txt (line 1)) (3.1.6)\n",
            "Requirement already satisfied: fsspec in /usr/local/lib/python3.11/dist-packages (from torch==2.1.2->-r peak_detection/requirements.txt (line 1)) (2025.3.2)\n",
            "Collecting nvidia-cuda-nvrtc-cu12==12.1.105 (from torch==2.1.2->-r peak_detection/requirements.txt (line 1))\n",
            "  Downloading nvidia_cuda_nvrtc_cu12-12.1.105-py3-none-manylinux1_x86_64.whl.metadata (1.5 kB)\n",
            "Collecting nvidia-cuda-runtime-cu12==12.1.105 (from torch==2.1.2->-r peak_detection/requirements.txt (line 1))\n",
            "  Downloading nvidia_cuda_runtime_cu12-12.1.105-py3-none-manylinux1_x86_64.whl.metadata (1.5 kB)\n",
            "Collecting nvidia-cuda-cupti-cu12==12.1.105 (from torch==2.1.2->-r peak_detection/requirements.txt (line 1))\n",
            "  Downloading nvidia_cuda_cupti_cu12-12.1.105-py3-none-manylinux1_x86_64.whl.metadata (1.6 kB)\n",
            "Collecting nvidia-cudnn-cu12==8.9.2.26 (from torch==2.1.2->-r peak_detection/requirements.txt (line 1))\n",
            "  Downloading nvidia_cudnn_cu12-8.9.2.26-py3-none-manylinux1_x86_64.whl.metadata (1.6 kB)\n",
            "Collecting nvidia-cublas-cu12==12.1.3.1 (from torch==2.1.2->-r peak_detection/requirements.txt (line 1))\n",
            "  Downloading nvidia_cublas_cu12-12.1.3.1-py3-none-manylinux1_x86_64.whl.metadata (1.5 kB)\n",
            "Collecting nvidia-cufft-cu12==11.0.2.54 (from torch==2.1.2->-r peak_detection/requirements.txt (line 1))\n",
            "  Downloading nvidia_cufft_cu12-11.0.2.54-py3-none-manylinux1_x86_64.whl.metadata (1.5 kB)\n",
            "Collecting nvidia-curand-cu12==10.3.2.106 (from torch==2.1.2->-r peak_detection/requirements.txt (line 1))\n",
            "  Downloading nvidia_curand_cu12-10.3.2.106-py3-none-manylinux1_x86_64.whl.metadata (1.5 kB)\n",
            "Collecting nvidia-cusolver-cu12==11.4.5.107 (from torch==2.1.2->-r peak_detection/requirements.txt (line 1))\n",
            "  Downloading nvidia_cusolver_cu12-11.4.5.107-py3-none-manylinux1_x86_64.whl.metadata (1.6 kB)\n",
            "Collecting nvidia-cusparse-cu12==12.1.0.106 (from torch==2.1.2->-r peak_detection/requirements.txt (line 1))\n",
            "  Downloading nvidia_cusparse_cu12-12.1.0.106-py3-none-manylinux1_x86_64.whl.metadata (1.6 kB)\n",
            "Collecting nvidia-nccl-cu12==2.18.1 (from torch==2.1.2->-r peak_detection/requirements.txt (line 1))\n",
            "  Downloading nvidia_nccl_cu12-2.18.1-py3-none-manylinux1_x86_64.whl.metadata (1.8 kB)\n",
            "Collecting nvidia-nvtx-cu12==12.1.105 (from torch==2.1.2->-r peak_detection/requirements.txt (line 1))\n",
            "  Downloading nvidia_nvtx_cu12-12.1.105-py3-none-manylinux1_x86_64.whl.metadata (1.7 kB)\n",
            "Collecting triton==2.1.0 (from torch==2.1.2->-r peak_detection/requirements.txt (line 1))\n",
            "  Downloading triton-2.1.0-0-cp311-cp311-manylinux2014_x86_64.manylinux_2_17_x86_64.whl.metadata (1.3 kB)\n",
            "Requirement already satisfied: requests in /usr/local/lib/python3.11/dist-packages (from torchvision==0.16.2->-r peak_detection/requirements.txt (line 2)) (2.32.3)\n",
            "Requirement already satisfied: pillow!=8.3.*,>=5.3.0 in /usr/local/lib/python3.11/dist-packages (from torchvision==0.16.2->-r peak_detection/requirements.txt (line 2)) (11.1.0)\n",
            "Requirement already satisfied: scipy>=1.6.0 in /usr/local/lib/python3.11/dist-packages (from scikit-learn==1.6.1->-r peak_detection/requirements.txt (line 6)) (1.14.1)\n",
            "Requirement already satisfied: joblib>=1.2.0 in /usr/local/lib/python3.11/dist-packages (from scikit-learn==1.6.1->-r peak_detection/requirements.txt (line 6)) (1.4.2)\n",
            "Requirement already satisfied: threadpoolctl>=3.1.0 in /usr/local/lib/python3.11/dist-packages (from scikit-learn==1.6.1->-r peak_detection/requirements.txt (line 6)) (3.6.0)\n",
            "Collecting pyqtgraph>=0.11.1 (from apav==1.4.0->-r peak_detection/requirements.txt (line 7))\n",
            "  Downloading pyqtgraph-0.13.7-py3-none-any.whl.metadata (1.3 kB)\n",
            "Collecting lmfit (from apav==1.4.0->-r peak_detection/requirements.txt (line 7))\n",
            "  Downloading lmfit-1.3.3-py3-none-any.whl.metadata (13 kB)\n",
            "Collecting fast-histogram (from apav==1.4.0->-r peak_detection/requirements.txt (line 7))\n",
            "  Downloading fast_histogram-0.14-cp39-abi3-manylinux_2_5_x86_64.manylinux1_x86_64.manylinux_2_17_x86_64.manylinux2014_x86_64.whl.metadata (6.8 kB)\n",
            "Requirement already satisfied: tabulate in /usr/local/lib/python3.11/dist-packages (from apav==1.4.0->-r peak_detection/requirements.txt (line 7)) (0.9.0)\n",
            "Collecting PyQt5>=5.11 (from apav==1.4.0->-r peak_detection/requirements.txt (line 7))\n",
            "  Downloading PyQt5-5.15.11-cp38-abi3-manylinux_2_17_x86_64.whl.metadata (2.1 kB)\n",
            "Collecting periodictable (from apav==1.4.0->-r peak_detection/requirements.txt (line 7))\n",
            "  Downloading periodictable-2.0.2-py3-none-any.whl.metadata (5.4 kB)\n",
            "Requirement already satisfied: nvidia-nvjitlink-cu12 in /usr/local/lib/python3.11/dist-packages (from nvidia-cusolver-cu12==11.4.5.107->torch==2.1.2->-r peak_detection/requirements.txt (line 1)) (12.5.82)\n",
            "Requirement already satisfied: contourpy>=1.0.1 in /usr/local/lib/python3.11/dist-packages (from matplotlib->-r peak_detection/requirements.txt (line 4)) (1.3.1)\n",
            "Requirement already satisfied: cycler>=0.10 in /usr/local/lib/python3.11/dist-packages (from matplotlib->-r peak_detection/requirements.txt (line 4)) (0.12.1)\n",
            "Requirement already satisfied: fonttools>=4.22.0 in /usr/local/lib/python3.11/dist-packages (from matplotlib->-r peak_detection/requirements.txt (line 4)) (4.57.0)\n",
            "Requirement already satisfied: kiwisolver>=1.3.1 in /usr/local/lib/python3.11/dist-packages (from matplotlib->-r peak_detection/requirements.txt (line 4)) (1.4.8)\n",
            "Requirement already satisfied: packaging>=20.0 in /usr/local/lib/python3.11/dist-packages (from matplotlib->-r peak_detection/requirements.txt (line 4)) (24.2)\n",
            "Requirement already satisfied: pyparsing>=2.3.1 in /usr/local/lib/python3.11/dist-packages (from matplotlib->-r peak_detection/requirements.txt (line 4)) (3.2.3)\n",
            "Requirement already satisfied: python-dateutil>=2.7 in /usr/local/lib/python3.11/dist-packages (from matplotlib->-r peak_detection/requirements.txt (line 4)) (2.8.2)\n",
            "INFO: pip is looking at multiple versions of scikit-image to determine which version is compatible with other requirements. This could take a while.\n",
            "Collecting scikit-image (from -r peak_detection/requirements.txt (line 5))\n",
            "  Downloading scikit_image-0.25.1-cp311-cp311-manylinux_2_17_x86_64.manylinux2014_x86_64.whl.metadata (14 kB)\n",
            "  Downloading scikit_image-0.25.0-cp311-cp311-manylinux_2_17_x86_64.manylinux2014_x86_64.whl.metadata (14 kB)\n",
            "  Downloading scikit_image-0.24.0-cp311-cp311-manylinux_2_17_x86_64.manylinux2014_x86_64.whl.metadata (14 kB)\n",
            "Requirement already satisfied: imageio>=2.33 in /usr/local/lib/python3.11/dist-packages (from scikit-image->-r peak_detection/requirements.txt (line 5)) (2.37.0)\n",
            "Requirement already satisfied: tifffile>=2022.8.12 in /usr/local/lib/python3.11/dist-packages (from scikit-image->-r peak_detection/requirements.txt (line 5)) (2025.3.30)\n",
            "Requirement already satisfied: lazy-loader>=0.4 in /usr/local/lib/python3.11/dist-packages (from scikit-image->-r peak_detection/requirements.txt (line 5)) (0.4)\n",
            "Requirement already satisfied: pytz>=2020.1 in /usr/local/lib/python3.11/dist-packages (from pandas->-r peak_detection/requirements.txt (line 9)) (2025.2)\n",
            "Requirement already satisfied: tzdata>=2022.7 in /usr/local/lib/python3.11/dist-packages (from pandas->-r peak_detection/requirements.txt (line 9)) (2025.2)\n",
            "Collecting PyQt5-sip<13,>=12.15 (from PyQt5>=5.11->apav==1.4.0->-r peak_detection/requirements.txt (line 7))\n",
            "  Downloading PyQt5_sip-12.17.0-cp311-cp311-manylinux_2_5_x86_64.manylinux1_x86_64.whl.metadata (472 bytes)\n",
            "Collecting PyQt5-Qt5<5.16.0,>=5.15.2 (from PyQt5>=5.11->apav==1.4.0->-r peak_detection/requirements.txt (line 7))\n",
            "  Downloading PyQt5_Qt5-5.15.16-1-py3-none-manylinux2014_x86_64.whl.metadata (536 bytes)\n",
            "Requirement already satisfied: six>=1.5 in /usr/local/lib/python3.11/dist-packages (from python-dateutil>=2.7->matplotlib->-r peak_detection/requirements.txt (line 4)) (1.17.0)\n",
            "Requirement already satisfied: MarkupSafe>=2.0 in /usr/local/lib/python3.11/dist-packages (from jinja2->torch==2.1.2->-r peak_detection/requirements.txt (line 1)) (3.0.2)\n",
            "Collecting asteval>=1.0 (from lmfit->apav==1.4.0->-r peak_detection/requirements.txt (line 7))\n",
            "  Downloading asteval-1.0.6-py3-none-any.whl.metadata (6.2 kB)\n",
            "INFO: pip is looking at multiple versions of lmfit to determine which version is compatible with other requirements. This could take a while.\n",
            "Collecting lmfit (from apav==1.4.0->-r peak_detection/requirements.txt (line 7))\n",
            "  Downloading lmfit-1.3.2-py3-none-any.whl.metadata (13 kB)\n",
            "Collecting uncertainties>=3.2.2 (from lmfit->apav==1.4.0->-r peak_detection/requirements.txt (line 7))\n",
            "  Downloading uncertainties-3.2.2-py3-none-any.whl.metadata (6.9 kB)\n",
            "Collecting dill>=0.3.4 (from lmfit->apav==1.4.0->-r peak_detection/requirements.txt (line 7))\n",
            "  Downloading dill-0.4.0-py3-none-any.whl.metadata (10 kB)\n",
            "Requirement already satisfied: charset-normalizer<4,>=2 in /usr/local/lib/python3.11/dist-packages (from requests->torchvision==0.16.2->-r peak_detection/requirements.txt (line 2)) (3.4.1)\n",
            "Requirement already satisfied: idna<4,>=2.5 in /usr/local/lib/python3.11/dist-packages (from requests->torchvision==0.16.2->-r peak_detection/requirements.txt (line 2)) (3.10)\n",
            "Requirement already satisfied: urllib3<3,>=1.21.1 in /usr/local/lib/python3.11/dist-packages (from requests->torchvision==0.16.2->-r peak_detection/requirements.txt (line 2)) (2.3.0)\n",
            "Requirement already satisfied: certifi>=2017.4.17 in /usr/local/lib/python3.11/dist-packages (from requests->torchvision==0.16.2->-r peak_detection/requirements.txt (line 2)) (2025.1.31)\n",
            "Requirement already satisfied: mpmath<1.4,>=1.1.0 in /usr/local/lib/python3.11/dist-packages (from sympy->torch==2.1.2->-r peak_detection/requirements.txt (line 1)) (1.3.0)\n",
            "Downloading torch-2.1.2-cp311-cp311-manylinux1_x86_64.whl (670.2 MB)\n",
            "\u001b[2K   \u001b[90m━━━━━━━━━━━━━━━━━━━━━━━━━━━━━━━━━━━━━━━━\u001b[0m \u001b[32m670.2/670.2 MB\u001b[0m \u001b[31m2.7 MB/s\u001b[0m eta \u001b[36m0:00:00\u001b[0m\n",
            "\u001b[?25hDownloading torchvision-0.16.2-cp311-cp311-manylinux1_x86_64.whl (6.8 MB)\n",
            "\u001b[2K   \u001b[90m━━━━━━━━━━━━━━━━━━━━━━━━━━━━━━━━━━━━━━━━\u001b[0m \u001b[32m6.8/6.8 MB\u001b[0m \u001b[31m93.9 MB/s\u001b[0m eta \u001b[36m0:00:00\u001b[0m\n",
            "\u001b[?25hDownloading numpy-1.23.5-cp311-cp311-manylinux_2_17_x86_64.manylinux2014_x86_64.whl (17.1 MB)\n",
            "\u001b[2K   \u001b[90m━━━━━━━━━━━━━━━━━━━━━━━━━━━━━━━━━━━━━━━━\u001b[0m \u001b[32m17.1/17.1 MB\u001b[0m \u001b[31m89.3 MB/s\u001b[0m eta \u001b[36m0:00:00\u001b[0m\n",
            "\u001b[?25hDownloading nvidia_cublas_cu12-12.1.3.1-py3-none-manylinux1_x86_64.whl (410.6 MB)\n",
            "\u001b[2K   \u001b[90m━━━━━━━━━━━━━━━━━━━━━━━━━━━━━━━━━━━━━━━━\u001b[0m \u001b[32m410.6/410.6 MB\u001b[0m \u001b[31m3.5 MB/s\u001b[0m eta \u001b[36m0:00:00\u001b[0m\n",
            "\u001b[?25hDownloading nvidia_cuda_cupti_cu12-12.1.105-py3-none-manylinux1_x86_64.whl (14.1 MB)\n",
            "\u001b[2K   \u001b[90m━━━━━━━━━━━━━━━━━━━━━━━━━━━━━━━━━━━━━━━━\u001b[0m \u001b[32m14.1/14.1 MB\u001b[0m \u001b[31m62.2 MB/s\u001b[0m eta \u001b[36m0:00:00\u001b[0m\n",
            "\u001b[?25hDownloading nvidia_cuda_nvrtc_cu12-12.1.105-py3-none-manylinux1_x86_64.whl (23.7 MB)\n",
            "\u001b[2K   \u001b[90m━━━━━━━━━━━━━━━━━━━━━━━━━━━━━━━━━━━━━━━━\u001b[0m \u001b[32m23.7/23.7 MB\u001b[0m \u001b[31m36.9 MB/s\u001b[0m eta \u001b[36m0:00:00\u001b[0m\n",
            "\u001b[?25hDownloading nvidia_cuda_runtime_cu12-12.1.105-py3-none-manylinux1_x86_64.whl (823 kB)\n",
            "\u001b[2K   \u001b[90m━━━━━━━━━━━━━━━━━━━━━━━━━━━━━━━━━━━━━━━━\u001b[0m \u001b[32m823.6/823.6 kB\u001b[0m \u001b[31m42.7 MB/s\u001b[0m eta \u001b[36m0:00:00\u001b[0m\n",
            "\u001b[?25hDownloading nvidia_cudnn_cu12-8.9.2.26-py3-none-manylinux1_x86_64.whl (731.7 MB)\n",
            "\u001b[2K   \u001b[90m━━━━━━━━━━━━━━━━━━━━━━━━━━━━━━━━━━━━━━━━\u001b[0m \u001b[32m731.7/731.7 MB\u001b[0m \u001b[31m2.6 MB/s\u001b[0m eta \u001b[36m0:00:00\u001b[0m\n",
            "\u001b[?25hDownloading nvidia_cufft_cu12-11.0.2.54-py3-none-manylinux1_x86_64.whl (121.6 MB)\n",
            "\u001b[2K   \u001b[90m━━━━━━━━━━━━━━━━━━━━━━━━━━━━━━━━━━━━━━━━\u001b[0m \u001b[32m121.6/121.6 MB\u001b[0m \u001b[31m8.2 MB/s\u001b[0m eta \u001b[36m0:00:00\u001b[0m\n",
            "\u001b[?25hDownloading nvidia_curand_cu12-10.3.2.106-py3-none-manylinux1_x86_64.whl (56.5 MB)\n",
            "\u001b[2K   \u001b[90m━━━━━━━━━━━━━━━━━━━━━━━━━━━━━━━━━━━━━━━━\u001b[0m \u001b[32m56.5/56.5 MB\u001b[0m \u001b[31m12.7 MB/s\u001b[0m eta \u001b[36m0:00:00\u001b[0m\n",
            "\u001b[?25h\u001b[33mWARNING: Retrying (Retry(total=4, connect=None, read=None, redirect=None, status=None)) after connection broken by 'ProtocolError('Connection aborted.', RemoteDisconnected('Remote end closed connection without response'))': /packages/bc/1d/8de1e5c67099015c834315e333911273a8c6aaba78923dd1d1e25fc5f217/nvidia_cusolver_cu12-11.4.5.107-py3-none-manylinux1_x86_64.whl\u001b[0m\u001b[33m\n",
            "\u001b[0mDownloading nvidia_cusolver_cu12-11.4.5.107-py3-none-manylinux1_x86_64.whl (124.2 MB)\n",
            "\u001b[2K   \u001b[90m━━━━━━━━━━━━━━━━━━━━━━━━━━━━━━━━━━━━━━━━\u001b[0m \u001b[32m124.2/124.2 MB\u001b[0m \u001b[31m8.4 MB/s\u001b[0m eta \u001b[36m0:00:00\u001b[0m\n",
            "\u001b[?25hDownloading nvidia_cusparse_cu12-12.1.0.106-py3-none-manylinux1_x86_64.whl (196.0 MB)\n",
            "\u001b[2K   \u001b[90m━━━━━━━━━━━━━━━━━━━━━━━━━━━━━━━━━━━━━━━━\u001b[0m \u001b[32m196.0/196.0 MB\u001b[0m \u001b[31m6.2 MB/s\u001b[0m eta \u001b[36m0:00:00\u001b[0m\n",
            "\u001b[?25hDownloading nvidia_nccl_cu12-2.18.1-py3-none-manylinux1_x86_64.whl (209.8 MB)\n",
            "\u001b[2K   \u001b[90m━━━━━━━━━━━━━━━━━━━━━━━━━━━━━━━━━━━━━━━━\u001b[0m \u001b[32m209.8/209.8 MB\u001b[0m \u001b[31m6.0 MB/s\u001b[0m eta \u001b[36m0:00:00\u001b[0m\n",
            "\u001b[?25hDownloading nvidia_nvtx_cu12-12.1.105-py3-none-manylinux1_x86_64.whl (99 kB)\n",
            "\u001b[2K   \u001b[90m━━━━━━━━━━━━━━━━━━━━━━━━━━━━━━━━━━━━━━━━\u001b[0m \u001b[32m99.1/99.1 kB\u001b[0m \u001b[31m6.4 MB/s\u001b[0m eta \u001b[36m0:00:00\u001b[0m\n",
            "\u001b[?25hDownloading triton-2.1.0-0-cp311-cp311-manylinux2014_x86_64.manylinux_2_17_x86_64.whl (89.2 MB)\n",
            "\u001b[2K   \u001b[90m━━━━━━━━━━━━━━━━━━━━━━━━━━━━━━━━━━━━━━━━\u001b[0m \u001b[32m89.2/89.2 MB\u001b[0m \u001b[31m8.3 MB/s\u001b[0m eta \u001b[36m0:00:00\u001b[0m\n",
            "\u001b[?25hDownloading scikit_image-0.24.0-cp311-cp311-manylinux_2_17_x86_64.manylinux2014_x86_64.whl (14.9 MB)\n",
            "\u001b[2K   \u001b[90m━━━━━━━━━━━━━━━━━━━━━━━━━━━━━━━━━━━━━━━━\u001b[0m \u001b[32m14.9/14.9 MB\u001b[0m \u001b[31m59.5 MB/s\u001b[0m eta \u001b[36m0:00:00\u001b[0m\n",
            "\u001b[?25hDownloading PyQt5-5.15.11-cp38-abi3-manylinux_2_17_x86_64.whl (8.2 MB)\n",
            "\u001b[2K   \u001b[90m━━━━━━━━━━━━━━━━━━━━━━━━━━━━━━━━━━━━━━━━\u001b[0m \u001b[32m8.2/8.2 MB\u001b[0m \u001b[31m72.3 MB/s\u001b[0m eta \u001b[36m0:00:00\u001b[0m\n",
            "\u001b[?25hDownloading pyqtgraph-0.13.7-py3-none-any.whl (1.9 MB)\n",
            "\u001b[2K   \u001b[90m━━━━━━━━━━━━━━━━━━━━━━━━━━━━━━━━━━━━━━━━\u001b[0m \u001b[32m1.9/1.9 MB\u001b[0m \u001b[31m49.4 MB/s\u001b[0m eta \u001b[36m0:00:00\u001b[0m\n",
            "\u001b[?25hDownloading fast_histogram-0.14-cp39-abi3-manylinux_2_5_x86_64.manylinux1_x86_64.manylinux_2_17_x86_64.manylinux2014_x86_64.whl (55 kB)\n",
            "\u001b[2K   \u001b[90m━━━━━━━━━━━━━━━━━━━━━━━━━━━━━━━━━━━━━━━━\u001b[0m \u001b[32m55.4/55.4 kB\u001b[0m \u001b[31m3.3 MB/s\u001b[0m eta \u001b[36m0:00:00\u001b[0m\n",
            "\u001b[?25hDownloading lmfit-1.3.2-py3-none-any.whl (98 kB)\n",
            "\u001b[2K   \u001b[90m━━━━━━━━━━━━━━━━━━━━━━━━━━━━━━━━━━━━━━━━\u001b[0m \u001b[32m98.9/98.9 kB\u001b[0m \u001b[31m7.2 MB/s\u001b[0m eta \u001b[36m0:00:00\u001b[0m\n",
            "\u001b[?25hDownloading periodictable-2.0.2-py3-none-any.whl (811 kB)\n",
            "\u001b[2K   \u001b[90m━━━━━━━━━━━━━━━━━━━━━━━━━━━━━━━━━━━━━━━━\u001b[0m \u001b[32m811.1/811.1 kB\u001b[0m \u001b[31m39.2 MB/s\u001b[0m eta \u001b[36m0:00:00\u001b[0m\n",
            "\u001b[?25hDownloading asteval-1.0.6-py3-none-any.whl (22 kB)\n",
            "Downloading dill-0.4.0-py3-none-any.whl (119 kB)\n",
            "\u001b[2K   \u001b[90m━━━━━━━━━━━━━━━━━━━━━━━━━━━━━━━━━━━━━━━━\u001b[0m \u001b[32m119.7/119.7 kB\u001b[0m \u001b[31m7.6 MB/s\u001b[0m eta \u001b[36m0:00:00\u001b[0m\n",
            "\u001b[?25hDownloading PyQt5_Qt5-5.15.16-1-py3-none-manylinux2014_x86_64.whl (61.1 MB)\n",
            "\u001b[2K   \u001b[90m━━━━━━━━━━━━━━━━━━━━━━━━━━━━━━━━━━━━━━━━\u001b[0m \u001b[32m61.1/61.1 MB\u001b[0m \u001b[31m11.0 MB/s\u001b[0m eta \u001b[36m0:00:00\u001b[0m\n",
            "\u001b[?25hDownloading PyQt5_sip-12.17.0-cp311-cp311-manylinux_2_5_x86_64.manylinux1_x86_64.whl (276 kB)\n",
            "\u001b[2K   \u001b[90m━━━━━━━━━━━━━━━━━━━━━━━━━━━━━━━━━━━━━━━━\u001b[0m \u001b[32m276.4/276.4 kB\u001b[0m \u001b[31m17.4 MB/s\u001b[0m eta \u001b[36m0:00:00\u001b[0m\n",
            "\u001b[?25hDownloading uncertainties-3.2.2-py3-none-any.whl (58 kB)\n",
            "\u001b[2K   \u001b[90m━━━━━━━━━━━━━━━━━━━━━━━━━━━━━━━━━━━━━━━━\u001b[0m \u001b[32m58.3/58.3 kB\u001b[0m \u001b[31m3.5 MB/s\u001b[0m eta \u001b[36m0:00:00\u001b[0m\n",
            "\u001b[?25hBuilding wheels for collected packages: apav\n",
            "  Building wheel for apav (pyproject.toml) ... \u001b[?25l\u001b[?25hdone\n",
            "  Created wheel for apav: filename=apav-1.4.0-cp311-cp311-linux_x86_64.whl size=58710509 sha256=7042846d12fc50d39074fe4b25832f04962aa39283643b85a82e9ba663d78777\n",
            "  Stored in directory: /root/.cache/pip/wheels/e5/ce/d3/49080bd5603480a86c9440c1ed6ce191872ed53e8406f2cd45\n",
            "Successfully built apav\n",
            "Installing collected packages: PyQt5-Qt5, uncertainties, triton, PyQt5-sip, nvidia-nvtx-cu12, nvidia-nccl-cu12, nvidia-cusparse-cu12, nvidia-curand-cu12, nvidia-cufft-cu12, nvidia-cuda-runtime-cu12, nvidia-cuda-nvrtc-cu12, nvidia-cuda-cupti-cu12, nvidia-cublas-cu12, numpy, dill, asteval, pyqtgraph, PyQt5, periodictable, nvidia-cusolver-cu12, nvidia-cudnn-cu12, fast-histogram, torch, scikit-image, lmfit, torchvision, apav\n",
            "  Attempting uninstall: triton\n",
            "    Found existing installation: triton 3.2.0\n",
            "    Uninstalling triton-3.2.0:\n",
            "      Successfully uninstalled triton-3.2.0\n",
            "  Attempting uninstall: nvidia-nvtx-cu12\n",
            "    Found existing installation: nvidia-nvtx-cu12 12.4.127\n",
            "    Uninstalling nvidia-nvtx-cu12-12.4.127:\n",
            "      Successfully uninstalled nvidia-nvtx-cu12-12.4.127\n",
            "  Attempting uninstall: nvidia-nccl-cu12\n",
            "    Found existing installation: nvidia-nccl-cu12 2.21.5\n",
            "    Uninstalling nvidia-nccl-cu12-2.21.5:\n",
            "      Successfully uninstalled nvidia-nccl-cu12-2.21.5\n",
            "  Attempting uninstall: nvidia-cusparse-cu12\n",
            "    Found existing installation: nvidia-cusparse-cu12 12.5.1.3\n",
            "    Uninstalling nvidia-cusparse-cu12-12.5.1.3:\n",
            "      Successfully uninstalled nvidia-cusparse-cu12-12.5.1.3\n",
            "  Attempting uninstall: nvidia-curand-cu12\n",
            "    Found existing installation: nvidia-curand-cu12 10.3.6.82\n",
            "    Uninstalling nvidia-curand-cu12-10.3.6.82:\n",
            "      Successfully uninstalled nvidia-curand-cu12-10.3.6.82\n",
            "  Attempting uninstall: nvidia-cufft-cu12\n",
            "    Found existing installation: nvidia-cufft-cu12 11.2.3.61\n",
            "    Uninstalling nvidia-cufft-cu12-11.2.3.61:\n",
            "      Successfully uninstalled nvidia-cufft-cu12-11.2.3.61\n",
            "  Attempting uninstall: nvidia-cuda-runtime-cu12\n",
            "    Found existing installation: nvidia-cuda-runtime-cu12 12.5.82\n",
            "    Uninstalling nvidia-cuda-runtime-cu12-12.5.82:\n",
            "      Successfully uninstalled nvidia-cuda-runtime-cu12-12.5.82\n",
            "  Attempting uninstall: nvidia-cuda-nvrtc-cu12\n",
            "    Found existing installation: nvidia-cuda-nvrtc-cu12 12.5.82\n",
            "    Uninstalling nvidia-cuda-nvrtc-cu12-12.5.82:\n",
            "      Successfully uninstalled nvidia-cuda-nvrtc-cu12-12.5.82\n",
            "  Attempting uninstall: nvidia-cuda-cupti-cu12\n",
            "    Found existing installation: nvidia-cuda-cupti-cu12 12.5.82\n",
            "    Uninstalling nvidia-cuda-cupti-cu12-12.5.82:\n",
            "      Successfully uninstalled nvidia-cuda-cupti-cu12-12.5.82\n",
            "  Attempting uninstall: nvidia-cublas-cu12\n",
            "    Found existing installation: nvidia-cublas-cu12 12.5.3.2\n",
            "    Uninstalling nvidia-cublas-cu12-12.5.3.2:\n",
            "      Successfully uninstalled nvidia-cublas-cu12-12.5.3.2\n",
            "  Attempting uninstall: numpy\n",
            "    Found existing installation: numpy 2.0.2\n",
            "    Uninstalling numpy-2.0.2:\n",
            "      Successfully uninstalled numpy-2.0.2\n",
            "  Attempting uninstall: nvidia-cusolver-cu12\n",
            "    Found existing installation: nvidia-cusolver-cu12 11.6.3.83\n",
            "    Uninstalling nvidia-cusolver-cu12-11.6.3.83:\n",
            "      Successfully uninstalled nvidia-cusolver-cu12-11.6.3.83\n",
            "  Attempting uninstall: nvidia-cudnn-cu12\n",
            "    Found existing installation: nvidia-cudnn-cu12 9.3.0.75\n",
            "    Uninstalling nvidia-cudnn-cu12-9.3.0.75:\n",
            "      Successfully uninstalled nvidia-cudnn-cu12-9.3.0.75\n",
            "  Attempting uninstall: torch\n",
            "    Found existing installation: torch 2.6.0+cu124\n",
            "    Uninstalling torch-2.6.0+cu124:\n",
            "      Successfully uninstalled torch-2.6.0+cu124\n",
            "  Attempting uninstall: scikit-image\n",
            "    Found existing installation: scikit-image 0.25.2\n",
            "    Uninstalling scikit-image-0.25.2:\n",
            "      Successfully uninstalled scikit-image-0.25.2\n",
            "  Attempting uninstall: torchvision\n",
            "    Found existing installation: torchvision 0.21.0+cu124\n",
            "    Uninstalling torchvision-0.21.0+cu124:\n",
            "      Successfully uninstalled torchvision-0.21.0+cu124\n",
            "\u001b[31mERROR: pip's dependency resolver does not currently take into account all the packages that are installed. This behaviour is the source of the following dependency conflicts.\n",
            "tensorflow 2.18.0 requires numpy<2.1.0,>=1.26.0, but you have numpy 1.23.5 which is incompatible.\n",
            "chex 0.1.89 requires numpy>=1.24.1, but you have numpy 1.23.5 which is incompatible.\n",
            "pymc 5.21.2 requires numpy>=1.25.0, but you have numpy 1.23.5 which is incompatible.\n",
            "imbalanced-learn 0.13.0 requires numpy<3,>=1.24.3, but you have numpy 1.23.5 which is incompatible.\n",
            "xarray 2025.1.2 requires numpy>=1.24, but you have numpy 1.23.5 which is incompatible.\n",
            "bigframes 1.42.0 requires numpy>=1.24.0, but you have numpy 1.23.5 which is incompatible.\n",
            "albucore 0.0.23 requires numpy>=1.24.4, but you have numpy 1.23.5 which is incompatible.\n",
            "blosc2 3.3.0 requires numpy>=1.26, but you have numpy 1.23.5 which is incompatible.\n",
            "treescope 0.1.9 requires numpy>=1.25.2, but you have numpy 1.23.5 which is incompatible.\n",
            "jax 0.5.2 requires numpy>=1.25, but you have numpy 1.23.5 which is incompatible.\n",
            "jaxlib 0.5.1 requires numpy>=1.25, but you have numpy 1.23.5 which is incompatible.\n",
            "albumentations 2.0.5 requires numpy>=1.24.4, but you have numpy 1.23.5 which is incompatible.\n",
            "torchaudio 2.6.0+cu124 requires torch==2.6.0, but you have torch 2.1.2 which is incompatible.\n",
            "thinc 8.3.6 requires numpy<3.0.0,>=2.0.0, but you have numpy 1.23.5 which is incompatible.\u001b[0m\u001b[31m\n",
            "\u001b[0mSuccessfully installed PyQt5-5.15.11 PyQt5-Qt5-5.15.16 PyQt5-sip-12.17.0 apav-1.4.0 asteval-1.0.6 dill-0.4.0 fast-histogram-0.14 lmfit-1.3.2 numpy-1.23.5 nvidia-cublas-cu12-12.1.3.1 nvidia-cuda-cupti-cu12-12.1.105 nvidia-cuda-nvrtc-cu12-12.1.105 nvidia-cuda-runtime-cu12-12.1.105 nvidia-cudnn-cu12-8.9.2.26 nvidia-cufft-cu12-11.0.2.54 nvidia-curand-cu12-10.3.2.106 nvidia-cusolver-cu12-11.4.5.107 nvidia-cusparse-cu12-12.1.0.106 nvidia-nccl-cu12-2.18.1 nvidia-nvtx-cu12-12.1.105 periodictable-2.0.2 pyqtgraph-0.13.7 scikit-image-0.24.0 torch-2.1.2 torchvision-0.16.2 triton-2.1.0 uncertainties-3.2.2\n"
          ]
        },
        {
          "output_type": "display_data",
          "data": {
            "application/vnd.colab-display-data+json": {
              "pip_warning": {
                "packages": [
                  "numpy"
                ]
              },
              "id": "6bb7d4792a4340c4a9672b398a77a2d1"
            }
          },
          "metadata": {}
        }
      ],
      "source": [
        "# Install dependencies. Annoyingly takes about 5 minutes.\n",
        "\n",
        "!pip install -r \"peak_detection/requirements.txt\""
      ]
    },
    {
      "cell_type": "code",
      "execution_count": 1,
      "id": "b0eff71a-4cb9-425d-82d3-c1b671b5a245",
      "metadata": {
        "colab": {
          "base_uri": "https://localhost:8080/",
          "height": 35
        },
        "id": "b0eff71a-4cb9-425d-82d3-c1b671b5a245",
        "outputId": "9feb551a-7f47-4b2d-edcb-2489be0114e8"
      },
      "outputs": [
        {
          "output_type": "execute_result",
          "data": {
            "text/plain": [
              "'./peak_detection'"
            ],
            "application/vnd.google.colaboratory.intrinsic+json": {
              "type": "string"
            }
          },
          "metadata": {},
          "execution_count": 1
        }
      ],
      "source": [
        "# For Colab, move repo directories so imports work\n",
        "\n",
        "import shutil\n",
        "shutil.move('peak_detection', 'peak_detection_repo')\n",
        "shutil.move('peak_detection_repo/peak_detection', '.')"
      ]
    },
    {
      "cell_type": "code",
      "execution_count": 2,
      "id": "af9f212f-4fb3-4afb-997e-da98896c2239",
      "metadata": {
        "id": "af9f212f-4fb3-4afb-997e-da98896c2239"
      },
      "outputs": [],
      "source": [
        "# Import needed packages\n",
        "\n",
        "import apav\n",
        "import os\n",
        "import peak_detection\n",
        "from peak_detection.RangingNN.predictor import DetectionPredictor\n",
        "import numpy as np\n",
        "import matplotlib.pyplot as plt\n",
        "import torch\n",
        "from scipy.signal import find_peaks\n",
        "from sklearn.preprocessing import LabelEncoder\n",
        "import yaml\n",
        "from pathlib import Path\n",
        "import torch.nn.functional as F"
      ]
    },
    {
      "cell_type": "code",
      "execution_count": 21,
      "id": "b3c0f15c-80b2-4689-857f-268c7709fda2",
      "metadata": {
        "id": "b3c0f15c-80b2-4689-857f-268c7709fda2"
      },
      "outputs": [],
      "source": [
        "# Function definitions to do model predictions and visualization\n",
        "\n",
        "def map01(ar):\n",
        "    return (ar-ar.min()) / (ar.max()-ar.min())\n",
        "\n",
        "def load_apt(apt_file):\n",
        "    '''\n",
        "\n",
        "    '''\n",
        "    # Load the .apt file and get histogram\n",
        "    d = apav.load_apt(apt_file)\n",
        "    x, spectrum = d.mass_histogram(bin_width=0.01, lower=0, upper=307.2, multiplicity='all', norm=False,)\n",
        "    spectrum_log = torch.tensor(map01(np.log(spectrum+1)), dtype=torch.float32)\n",
        "    return spectrum, spectrum_log\n",
        "\n",
        "def get_label_encoder():\n",
        "    '''\n",
        "\n",
        "    '''\n",
        "\n",
        "    CHEMICAL_ELEMENTS = ['H', 'He', 'Li', 'Be', 'B', 'C', 'N', 'O', 'F', 'Ne', 'Na', 'Mg', 'Al',\n",
        "                         'Si', 'P', 'S', 'Cl', 'Ar', 'K', 'Ca', 'Sc', 'Ti', 'V', 'Cr', 'Mn', 'Fe',\n",
        "                         'Co', 'Ni', 'Cu', 'Zn', 'Ga', 'Ge', 'As', 'Se', 'Br', 'Kr', 'Rb', 'Sr',\n",
        "                         'Y', 'Zr', 'Nb', 'Mo', 'Ru', 'Rh', 'Pd', 'Ag', 'Cd', 'In', 'Sn', 'Sb',\n",
        "                         'Te', 'I', 'Xe', 'Cs', 'Ba', 'La', 'Ce', 'Pr', 'Nd', 'Sm', 'Eu', 'Gd',\n",
        "                         'Tb', 'Dy', 'Ho', 'Er', 'Tm', 'Lu', 'Hf', 'Ta', 'W', 'Re', 'Os', 'Ir',\n",
        "                         'Pt', 'Au', 'Hg', 'Tl', 'Pb', 'Bi', 'Th', 'U']\n",
        "\n",
        "    le = LabelEncoder()\n",
        "    le.fit(CHEMICAL_ELEMENTS)\n",
        "    return le\n",
        "\n",
        "def predict_elements(model, spectrum, label_encoder, device):\n",
        "    '''\n",
        "\n",
        "    '''\n",
        "    model.eval()\n",
        "    with torch.no_grad():\n",
        "        spectrum = torch.FloatTensor(spectrum).unsqueeze(0).to(device)\n",
        "        outputs = model(spectrum, lengths = [spectrum.shape[1]])\n",
        "\n",
        "        probabilities = F.softmax(outputs, dim=2)\n",
        "        predictions = torch.argmax(outputs, dim=2)\n",
        "\n",
        "        # Convert numerical predictions to element names\n",
        "        element_predictions = label_encoder.inverse_transform(predictions.cpu().numpy().ravel())\n",
        "        confidence_scores = torch.max(probabilities, dim=2)[0].cpu().numpy().ravel()\n",
        "\n",
        "        return element_predictions, confidence_scores\n",
        "\n",
        "def plot_predictions(apt_file, peak_range_pred, res, confidence, plot_min=0, plot_max=20000):\n",
        "    '''\n",
        "    plot_max : # in 0.01 Da\n",
        "    '''\n",
        "    plt.clf()\n",
        "    spectrum, spectrum_log = load_apt(apt_file=apt_file)\n",
        "\n",
        "    # set the zoom in m/c range\n",
        "    bin_width = 0.01\n",
        "    peak_pred_ = peak_range_pred[(peak_range_pred[:,0] < plot_max) & (peak_range_pred[:,0] >plot_min)]\n",
        "\n",
        "    # Create the plot\n",
        "    fig, ax = plt.subplots(figsize=(7, 4))\n",
        "\n",
        "    # Plot the spectrum\n",
        "    x = 0.01 * torch.linspace(plot_min,plot_max, plot_max - plot_min)\n",
        "\n",
        "    ax.plot(x[...,None], spectrum_log[..., plot_min:plot_max].T, 'k-', linewidth=1)\n",
        "\n",
        "\n",
        "    # Add color boxes for each peak range\n",
        "    # Add vertical lines to show the boundaries of ranges\n",
        "\n",
        "    for start, end in peak_pred_:\n",
        "        ax.axvspan(start*0.01, end*0.01, alpha=0.3, color='red',label='Model prediction' if start == peak_pred_[0][0] else \"\")\n",
        "    for start, end in peak_pred_:\n",
        "        ax.axvline(start*0.01, color='red', linestyle='--', alpha=0.7, lw = 0.7)\n",
        "        ax.axvline(end*0.01, color='red', linestyle='--', alpha=0.7, lw = 0.7)\n",
        "\n",
        "    # Set labels and title\n",
        "    ax.set_xlabel('Mass to charge ratio (Da)')\n",
        "    ax.set_ylabel('Intensity in log scale normalized (counts)')\n",
        "\n",
        "    ax.set_xlim(-2, 0.01*plot_max)\n",
        "\n",
        "    # Add the predicted ions and their confidences\n",
        "    peak_range_pred = peak_range_pred[peak_range_pred[:, 0].argsort()][:, 0]\n",
        "    #for peak_start, ion, conf in zip(peak_range_pred[:,0], res, confidence):\n",
        "    for peak_start, ion, conf in zip(peak_range_pred, res, confidence):\n",
        "        if peak_start < plot_max:\n",
        "            y_rand = np.random.uniform(low=0.5, high=1.0)\n",
        "            print(peak_start, ion, conf)\n",
        "            ax.text(0.01*float(peak_start)+0.02, y_rand, ion+':'+str(round(conf,2)))\n",
        "\n",
        "    # Adjust the plot layout\n",
        "    plt.tight_layout()\n",
        "    plt.legend()\n",
        "    fname = apt_file.split('/')[-1]\n",
        "    plt.savefig(fname+'_ranging_ion_preds.png', dpi=350, bbox_inches='tight')\n",
        "\n",
        "    return\n",
        "\n",
        "def predict_peak_ranges(apt_file, conf=0.02, iou=0.01, max_det=2000):\n",
        "    '''\n",
        "\n",
        "    '''\n",
        "\n",
        "    spectrum, spectrum_log = load_apt(apt_file=apt_file)\n",
        "\n",
        "    # Load in the RangingNN model and do the peak detection\n",
        "    cfg = os.path.dirname(peak_detection.__file__) + '/RangingNN/cfg/prediction_args.yaml' # loading the default parameter file in the package\n",
        "    cfg = yaml.safe_load(Path(cfg).read_text())\n",
        "\n",
        "    cfg['iou'] = iou\n",
        "    cfg['conf'] = conf\n",
        "    cfg['max_det'] = max_det\n",
        "\n",
        "    modelpath = os.path.join(os.path.dirname(peak_detection.__file__), 'RangingNN/modelweights/best.pt') # loading the default trained-model in the package\n",
        "    predictor = DetectionPredictor(modelpath, spectrum_log[None, None, ...], save_dir = 'test_results', cfg = cfg)\n",
        "    result = predictor()[0]\n",
        "    peak_range_pred = result[:,:2].cpu()\n",
        "\n",
        "    print('model predicted peaks:',peak_range_pred.shape[0])\n",
        "\n",
        "    return peak_range_pred\n",
        "\n",
        "def predict_peak_ions(peak_range_pred, bin_width=0.01, max_width_Da=0.5):\n",
        "    '''\n",
        "    Certain wide ranges due to the tail leads to over-high indensity,\n",
        "    shrinking the other intensities, so set limit here\n",
        "    '''\n",
        "\n",
        "    spectrum, spectrum_log = load_apt(apt_file=apt_file)\n",
        "\n",
        "    profile = np.zeros_like(peak_range_pred)\n",
        "    peak_range_pred = np.asarray(peak_range_pred)\n",
        "\n",
        "    # Preprocess detected peak ranging data for IonClassifier model\n",
        "    for k in range(profile.shape[0]):\n",
        "        profile[k][0] = spectrum[round(peak_range_pred[k][0]):round(peak_range_pred[k][1])+1].argmax()\n",
        "        profile[k][0] = (profile[k][0] + round(peak_range_pred[k][0]))/100\n",
        "\n",
        "        window = min(max_width_Da/bin_width, round(peak_range_pred[k][1])+1-round(peak_range_pred[k][0]))\n",
        "        profile[k][1] = spectrum[round(peak_range_pred[k][0]):round(peak_range_pred[k][0]+window)].sum()\n",
        "\n",
        "    profile[:,1] = (profile[:,1] - profile[:,1].min() ) / (profile[:,1].max() - profile[:,1].min()) # normalize counts from one spectrum to 0-1\n",
        "\n",
        "    # Make sure the profile is in sequential order, increasing m/c\n",
        "    profile_final = profile[profile[:, 0].argsort()]\n",
        "\n",
        "    # Run the IonClassifier model to predict the peak IDs\n",
        "    model_path = os.path.join(os.path.dirname(peak_detection.__file__), 'Ionclassifier/modelweights')\n",
        "    RNNmodel = torch.load(os.path.join(model_path, 'model_bestepoch.tar'), map_location='cpu')['ema']\n",
        "    le = get_label_encoder()\n",
        "    res, confidence = predict_elements(RNNmodel, profile_final, le, 'cpu')\n",
        "\n",
        "    return res, confidence, profile_final\n"
      ]
    },
    {
      "cell_type": "code",
      "source": [
        "# Load in an .apt file and run both the ranging and ion classification models,\n",
        "# then plot the results\n",
        "\n",
        "# Update the path to the .apt file you want to use the models on\n",
        "apt_file = 'drive/MyDrive/Cameca/R13_40310Zr Unsaved - Top Level ROI.apt'\n",
        "\n",
        "peak_range_pred = predict_peak_ranges(apt_file, conf=0.05, iou=0.01, max_det=2000)\n",
        "\n",
        "res, confidence, profile_final = predict_peak_ions(peak_range_pred, bin_width=0.01, max_width_Da=0.5)\n",
        "\n",
        "plot_predictions(apt_file, peak_range_pred, res, confidence, plot_min=0, plot_max=2000)\n"
      ],
      "metadata": {
        "colab": {
          "base_uri": "https://localhost:8080/",
          "height": 614
        },
        "id": "Pjxcc6j8c_WZ",
        "outputId": "f98de0ab-b066-4229-8a70-55eff1a6b878"
      },
      "id": "Pjxcc6j8c_WZ",
      "execution_count": 26,
      "outputs": [
        {
          "output_type": "stream",
          "name": "stderr",
          "text": [
            "INFO:apav:Reading apt file: drive/MyDrive/Cameca/R13_40310Zr Unsaved - Top Level ROI.apt\n"
          ]
        },
        {
          "output_type": "stream",
          "name": "stdout",
          "text": [
            "Start inference\n",
            "Speed:  149.1ms inference, 7.1ms postprocess for per spectrum \n"
          ]
        },
        {
          "output_type": "stream",
          "name": "stderr",
          "text": [
            "INFO:apav:Reading apt file: drive/MyDrive/Cameca/R13_40310Zr Unsaved - Top Level ROI.apt\n"
          ]
        },
        {
          "output_type": "stream",
          "name": "stdout",
          "text": [
            "model predicted peaks: 36\n"
          ]
        },
        {
          "output_type": "stream",
          "name": "stderr",
          "text": [
            "INFO:apav:Reading apt file: drive/MyDrive/Cameca/R13_40310Zr Unsaved - Top Level ROI.apt\n"
          ]
        },
        {
          "output_type": "stream",
          "name": "stdout",
          "text": [
            "tensor(95.6757) H 0.9999987\n",
            "tensor(199.2399) C 0.7845569\n",
            "tensor(1199.4314) N 0.886283\n",
            "tensor(1302.1035) N 0.5729249\n",
            "tensor(1351.6729) Al 0.7878221\n"
          ]
        },
        {
          "output_type": "display_data",
          "data": {
            "text/plain": [
              "<Figure size 640x480 with 0 Axes>"
            ]
          },
          "metadata": {}
        },
        {
          "output_type": "display_data",
          "data": {
            "text/plain": [
              "<Figure size 700x400 with 1 Axes>"
            ],
            "image/png": "[encoded data removed]"
          },
          "metadata": {}
        }
      ]
    },
    {
      "cell_type": "code",
      "source": [
        "res"
      ],
      "metadata": {
        "id": "JRy3s7rGC3Tm",
        "outputId": "f6870ad4-b579-405a-da9e-623b3537f674",
        "colab": {
          "base_uri": "https://localhost:8080/"
        }
      },
      "id": "JRy3s7rGC3Tm",
      "execution_count": 6,
      "outputs": [
        {
          "output_type": "execute_result",
          "data": {
            "text/plain": [
              "array(['H', 'C', 'N', 'N', 'Al', 'Ti', 'Al', 'Ti', 'Ti', 'Ti', 'Si', 'Ni',\n",
              "       'Ni', 'Ni', 'Ni', 'Ni', 'Ni', 'Ni', 'Sc', 'Sc', 'Nb', 'Ti', 'Ti',\n",
              "       'Ti', 'Ti', 'Ti', 'Fe', 'Ni', 'Ni', 'Ni', 'Ni', 'Ni', 'W', 'Cu',\n",
              "       'Ni', 'Ni'], dtype='<U2')"
            ]
          },
          "metadata": {},
          "execution_count": 6
        }
      ]
    },
    {
      "cell_type": "code",
      "source": [
        "peak_range_pred"
      ],
      "metadata": {
        "id": "LIdLA9h2K7Wv",
        "outputId": "f794c0c2-1699-4cb0-80f7-bdb3ce180bc1",
        "colab": {
          "base_uri": "https://localhost:8080/"
        }
      },
      "id": "LIdLA9h2K7Wv",
      "execution_count": 18,
      "outputs": [
        {
          "output_type": "execute_result",
          "data": {
            "text/plain": [
              "tensor([[2887.2046, 2976.8345],\n",
              "        [5882.0137, 5913.4160],\n",
              "        [5772.8691, 5871.2090],\n",
              "        [4808.1982, 5287.8018],\n",
              "        [3191.2559, 3202.7920],\n",
              "        [  95.6757,  184.0765],\n",
              "        [5292.0977, 5303.1562],\n",
              "        [2436.4084, 2463.9543],\n",
              "        [2338.8010, 2375.3337],\n",
              "        [6471.3135, 6791.8525],\n",
              "        [7084.0430, 7099.1582],\n",
              "        [1302.1035, 1307.2529],\n",
              "        [2688.5298, 2791.0093],\n",
              "        [4527.2646, 4575.6729],\n",
              "        [3089.1646, 3103.7368],\n",
              "        [6180.5430, 6205.1992],\n",
              "        [1351.6729, 1751.8433],\n",
              "        [1199.4314, 1205.4456],\n",
              "        [6085.5337, 6109.8149],\n",
              "        [3123.0979, 3137.8513],\n",
              "        [2389.9116, 2434.3091],\n",
              "        [4638.0977, 4670.9062],\n",
              "        [4681.3721, 4719.1963],\n",
              "        [4477.7202, 4527.7075],\n",
              "        [2985.8757, 3021.5554],\n",
              "        [6884.1357, 6899.4551],\n",
              "        [5974.4971, 6036.1855],\n",
              "        [2489.0566, 2579.6973],\n",
              "        [ 199.2399,  215.6682],\n",
              "        [2289.9875, 2323.8967],\n",
              "        [3024.6753, 3040.0610],\n",
              "        [3057.3770, 3075.6846],\n",
              "        [4733.6846, 4770.1826],\n",
              "        [4583.0103, 4628.3130],\n",
              "        [4788.0869, 4813.0850],\n",
              "        [6274.2407, 6462.0571]])"
            ]
          },
          "metadata": {},
          "execution_count": 18
        }
      ]
    },
    {
      "cell_type": "code",
      "source": [
        "peak_range_pred[peak_range_pred[:, 0].argsort()][:, 0]"
      ],
      "metadata": {
        "id": "G35nYpIaJLKs",
        "outputId": "51870ec0-bada-4823-969a-c531b2236892",
        "colab": {
          "base_uri": "https://localhost:8080/"
        }
      },
      "id": "G35nYpIaJLKs",
      "execution_count": 20,
      "outputs": [
        {
          "output_type": "execute_result",
          "data": {
            "text/plain": [
              "tensor([  95.6757,  199.2399, 1199.4314, 1302.1035, 1351.6729, 2289.9875,\n",
              "        2338.8010, 2389.9116, 2436.4084, 2489.0566, 2688.5298, 2887.2046,\n",
              "        2985.8757, 3024.6753, 3057.3770, 3089.1646, 3123.0979, 3191.2559,\n",
              "        4477.7202, 4527.2646, 4583.0103, 4638.0977, 4681.3721, 4733.6846,\n",
              "        4788.0869, 4808.1982, 5292.0977, 5772.8691, 5882.0137, 5974.4971,\n",
              "        6085.5337, 6180.5430, 6274.2407, 6471.3135, 6884.1357, 7084.0430])"
            ]
          },
          "metadata": {},
          "execution_count": 20
        }
      ]
    },
    {
      "cell_type": "code",
      "source": [],
      "metadata": {
        "id": "bVO97YoVKgBk"
      },
      "id": "bVO97YoVKgBk",
      "execution_count": null,
      "outputs": []
    }
  ],
  "metadata": {
    "kernelspec": {
      "display_name": "Python 3 (ipykernel)",
      "language": "python",
      "name": "python3"
    },
    "language_info": {
      "codemirror_mode": {
        "name": "ipython",
        "version": 3
      },
      "file_extension": ".py",
      "mimetype": "text/x-python",
      "name": "python",
      "nbconvert_exporter": "python",
      "pygments_lexer": "ipython3",
      "version": "3.11.11"
    },
    "colab": {
      "provenance": []
    }
  },
  "nbformat": 4,
  "nbformat_minor": 5
}