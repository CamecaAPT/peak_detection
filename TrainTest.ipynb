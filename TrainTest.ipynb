{
 "cells": [
  {
   "cell_type": "code",
   "execution_count": 1,
   "id": "c428a086-b379-4753-b80b-002b91da9f4a",
   "metadata": {},
   "outputs": [],
   "source": [
    "import torch\n",
    "import os,sys\n",
    "sys.path.append('G:/pycharm/apt/')\n",
    "import numpy as np\n",
    "import h5py\n",
    "import apav\n",
    "import matplotlib.pyplot as plt"
   ]
  },
  {
   "cell_type": "code",
   "execution_count": 2,
   "id": "521ba915-8d11-43e1-bce4-a9f096bc9ff7",
   "metadata": {},
   "outputs": [],
   "source": [
    "import RangingNN"
   ]
  },
  {
   "cell_type": "code",
   "execution_count": 3,
   "id": "592b38a6-e3ba-4ecb-b432-a64feee12dfa",
   "metadata": {},
   "outputs": [
    {
     "data": {
      "text/plain": [
       "6"
      ]
     },
     "execution_count": 3,
     "metadata": {},
     "output_type": "execute_result"
    }
   ],
   "source": [
    "import multiprocessing\n",
    "pool = multiprocessing.Pool()\n",
    "pool._processes"
   ]
  },
  {
   "cell_type": "markdown",
   "id": "f5718563-3fb2-4a89-b42b-86c42f60054d",
   "metadata": {},
   "source": [
    "# Creat training datasets for ranging"
   ]
  },
  {
   "cell_type": "code",
   "execution_count": null,
   "id": "dd63beb3-3a0f-4141-9c5c-7a2877f4ca86",
   "metadata": {},
   "outputs": [],
   "source": [
    "# precheck if there is bad ranges that width <0.01\n",
    "k = 5\n",
    "spec= apav.load_apt(datalist[k])\n",
    "rng = apav.RangeCollection.from_rrng(rangelist[k])\n",
    "rng_col = apav.RangeCollection(rng)\n",
    "ranged = anl.RangedMassSpectrum(spec, rng_col, percent=True, bin_width= 0.01)\n",
    "\n",
    "%gui qt\n",
    "import apav.analysis as anl\n",
    "plot = ranged.plot()\n",
    "plot.show()"
   ]
  },
  {
   "cell_type": "code",
   "execution_count": 2,
   "id": "5744b492-13ff-4442-8c89-5c1d6003c43f",
   "metadata": {},
   "outputs": [
    {
     "name": "stdout",
     "output_type": "stream",
     "text": [
      "Augmentation finished for R78_161188-v01 GaAs\n",
      "h5 file writting finished\n"
     ]
    }
   ],
   "source": [
    "from peak_detection.RangingNN.data_generation import Augmentation\n",
    "aug = Augmentation(apt_file='D:/APT_DATA/R78_161188-v01 GaAs.apt',ranging_file='D:/APT_DATA/R78_161188-v01 GaAs.RRNG', \n",
    "                   savepath = 'D:/APT_DATA/hdf5s/')\n",
    "aug.file2h5() # 16:31"
   ]
  },
  {
   "cell_type": "code",
   "execution_count": null,
   "id": "854578de-6ba1-42dc-b9fe-0b70c0ee32fd",
   "metadata": {},
   "outputs": [],
   "source": [
    "with h5py.File('D:/APT_DATA/hdf5s/R13_40310Zr Top Level ROI.h5', 'r') as f:\n",
    "    sp = np.asarray(f['input'])\n",
    "    lb = np.asarray(f['label'])\n",
    "    print(np.array(f['ion']))\n",
    "    print(np.array(f['if_norm']))\n",
    "    print(np.asarray(f['if_peak_shift']))"
   ]
  },
  {
   "cell_type": "code",
   "execution_count": 5,
   "id": "64583900-0cc8-4e3f-aab8-136ae8bbef1d",
   "metadata": {},
   "outputs": [
    {
     "name": "stdout",
     "output_type": "stream",
     "text": [
      "R13_40310Zr Top Level ROI.apt\n",
      "R16_50678 NiPdSi Top Level ROI.apt\n",
      "R17_101977 SiN.apt\n",
      "R17_89420-v03 ranging for uw.apt\n",
      "R17_94469 WRe Top Level ROI.apt\n",
      "R17_98556-v02 ranging for uw.apt\n",
      "R18_61451 matchUSYD.apt\n",
      "R2001_185741ZrSiO UW Analysis Zircon.apt\n",
      "R40_110290-v01 AuAlloy.apt\n",
      "R41_143855Ru Top Level ROI.apt\n",
      "R5086_258504_UNSM_SS.apt\n",
      "R5100_228062 W.apt\n",
      "R5100_235274UW Ranging Top Level ROI.apt\n",
      "R56_138794 YWT Top Level ROI.apt\n",
      "R6001_233217CuBe.apt\n",
      "R6006_254275 Cu LP.apt\n",
      "R6006_254276 Cu VpL.apt\n",
      "R6012_264025 7000Al UW Ranging.apt\n",
      "R6025_267386_NMC811_M04 example analysis.apt\n",
      "R69_152985-v01 Si device.apt\n",
      "R69_152985-v01 Top Level ROI.apt\n",
      "R78_161188-v01 GaAs.apt\n",
      "R79_160199-v01 SiO.apt\n"
     ]
    },
    {
     "data": {
      "text/plain": [
       "(23, 23)"
      ]
     },
     "execution_count": 5,
     "metadata": {},
     "output_type": "execute_result"
    }
   ],
   "source": [
    "filelist = sorted(os.listdir('D:/APT_DATA/'))\n",
    "datalist = []\n",
    "rangelist = []\n",
    "for f in filelist:\n",
    "    if f[-3:]=='apt':\n",
    "        print(f)\n",
    "        datalist.append('D:/APT_DATA/'+f)\n",
    "        rangelist.append('D:/APT_DATA/'+f[:-3]+ 'RRNG')\n",
    "\n",
    "len(datalist), len(rangelist)"
   ]
  },
  {
   "cell_type": "code",
   "execution_count": 7,
   "id": "167422a1-a319-4f79-a2a3-577ec75ab714",
   "metadata": {},
   "outputs": [],
   "source": [
    "from RangingNN.data_generation import Augmentation\n",
    "\n",
    "aug = Augmentation(apt_file=datalist[7], ranging_file=rangelist[7], savepath = 'D:/APT_DATA/hdf5s/')\n",
    "rg = aug.load_ranging()\n",
    "sp = aug.load_voxel_spectrum()"
   ]
  },
  {
   "cell_type": "code",
   "execution_count": 10,
   "id": "f868b296-010e-4fbd-aaa3-c0573d1b54b7",
   "metadata": {},
   "outputs": [
    {
     "name": "stdout",
     "output_type": "stream",
     "text": [
      "Augmentation finished for R13_40310Zr Top Level ROI\n",
      "h5 file writting finished\n",
      "Finished 0\n",
      "Augmentation finished for R16_50678 NiPdSi Top Level ROI\n",
      "h5 file writting finished\n",
      "Finished 1\n",
      "Augmentation finished for R17_101977 SiN\n",
      "h5 file writting finished\n",
      "Finished 2\n",
      "Augmentation finished for R17_89420-v03 ranging for uw\n",
      "h5 file writting finished\n",
      "Finished 3\n",
      "Augmentation finished for R17_94469 WRe Top Level ROI\n",
      "h5 file writting finished\n",
      "Finished 4\n",
      "Augmentation finished for R17_98556-v02 ranging for uw\n",
      "h5 file writting finished\n",
      "Finished 5\n",
      "Augmentation finished for R18_61451 matchUSYD\n",
      "h5 file writting finished\n",
      "Finished 6\n",
      "Augmentation finished for R2001_185741ZrSiO UW Analysis Zircon\n",
      "h5 file writting finished\n",
      "Finished 7\n",
      "Augmentation finished for R40_110290-v01 AuAlloy\n",
      "h5 file writting finished\n",
      "Finished 8\n",
      "Augmentation finished for R41_143855Ru Top Level ROI\n",
      "h5 file writting finished\n",
      "Finished 9\n",
      "Augmentation finished for R5086_258504_UNSM_SS\n",
      "h5 file writting finished\n",
      "Finished 10\n",
      "Augmentation finished for R5100_228062 W\n",
      "h5 file writting finished\n",
      "Finished 11\n",
      "Augmentation finished for R5100_235274UW Ranging Top Level ROI\n",
      "h5 file writting finished\n",
      "Finished 12\n",
      "Augmentation finished for R56_138794 YWT Top Level ROI\n",
      "h5 file writting finished\n",
      "Finished 13\n",
      "Augmentation finished for R6001_233217CuBe\n",
      "h5 file writting finished\n",
      "Finished 14\n",
      "Augmentation finished for R6006_254275 Cu LP\n",
      "h5 file writting finished\n",
      "Finished 15\n",
      "Augmentation finished for R6006_254276 Cu VpL\n",
      "h5 file writting finished\n",
      "Finished 16\n",
      "Augmentation finished for R6012_264025 7000Al UW Ranging\n",
      "h5 file writting finished\n",
      "Finished 17\n",
      "Augmentation finished for R6025_267386_NMC811_M04 example analysis\n",
      "h5 file writting finished\n",
      "Finished 18\n",
      "Augmentation finished for R69_152985-v01 Si device\n",
      "h5 file writting finished\n",
      "Finished 19\n",
      "Augmentation finished for R69_152985-v01 Top Level ROI\n",
      "h5 file writting finished\n",
      "Finished 20\n",
      "Augmentation finished for R78_161188-v01 GaAs\n",
      "h5 file writting finished\n",
      "Finished 21\n",
      "Augmentation finished for R79_160199-v01 SiO\n",
      "h5 file writting finished\n",
      "Finished 22\n"
     ]
    }
   ],
   "source": [
    "for i in range(23):\n",
    "    aug = Augmentation(apt_file=datalist[i], ranging_file=rangelist[i], savepath = 'D:/APT_DATA/hdf5s/')\n",
    "    aug.file2h5()\n",
    "    print('Finished', i)"
   ]
  },
  {
   "cell_type": "code",
   "execution_count": 11,
   "id": "375b75d4-a0b6-4296-b6d0-11ee7701434e",
   "metadata": {},
   "outputs": [
    {
     "name": "stdout",
     "output_type": "stream",
     "text": [
      "[b'As1' b'As1' b'As1' b'Ga1' b'Ga1' b'Ga1' b'Ga1' b'Si1' b'Si1' b'As4'\n",
      " b'As5' b'As3' b'As3' b'As2' b'Zn1' b'Zn1' b'C1O2' b'H1' b'H2' b'H2O1'\n",
      " b'Ga1H2']\n",
      "True\n",
      "True\n"
     ]
    }
   ],
   "source": [
    "\n",
    "with h5py.File('D:/APT_DATA/hdf5s/R78_161188-v01 GaAs.h5', 'r') as f:\n",
    "    sp = np.asarray(f['input'])\n",
    "    lb = np.asarray(f['label'])\n",
    "    print(np.array(f['ion']))\n",
    "    print(np.array(f['if_norm']))\n",
    "    print(np.asarray(f['if_peak_shift']))"
   ]
  },
  {
   "cell_type": "code",
   "execution_count": 12,
   "id": "e18f0ad8-3b03-47ab-81d5-774cb050a2fb",
   "metadata": {},
   "outputs": [
    {
     "data": {
      "text/plain": [
       "((1100, 30720), (1100, 21, 2))"
      ]
     },
     "execution_count": 12,
     "metadata": {},
     "output_type": "execute_result"
    }
   ],
   "source": [
    "sp.shape, lb.shape"
   ]
  },
  {
   "cell_type": "markdown",
   "id": "c231f156-7e1f-4c09-99b8-406d57459d33",
   "metadata": {},
   "source": [
    "## check the dataset class"
   ]
  },
  {
   "cell_type": "code",
   "execution_count": 13,
   "id": "ce4c81fa-4f4d-4176-a4cc-e241c0d6eb74",
   "metadata": {},
   "outputs": [
    {
     "name": "stderr",
     "output_type": "stream",
     "text": [
      "Scanning D:/APT_DATA/hdf5s/... 43 spectrums, 0 backgrounds, 0 corrupt: 100%|██████████| 43/43 [00:01<00:00, 37.83it/s]\n"
     ]
    },
    {
     "data": {
      "text/plain": [
       "47300"
      ]
     },
     "execution_count": 13,
     "metadata": {},
     "output_type": "execute_result"
    }
   ],
   "source": [
    "from RangingNN.dataset import BaseDataset\n",
    "dd = BaseDataset('D:/APT_DATA/hdf5s/')\n",
    "dd.__len__()"
   ]
  },
  {
   "cell_type": "code",
   "execution_count": 24,
   "id": "7663a08f-4994-4ff8-ba57-c5eb80841c78",
   "metadata": {},
   "outputs": [
    {
     "data": {
      "text/plain": [
       "Text(0, 0.5, 'normalized counts')"
      ]
     },
     "execution_count": 24,
     "metadata": {},
     "output_type": "execute_result"
    },
    {
     "data": {
      "image/png": "[encoded data removed]",
      "text/plain": [
       "<Figure size 800x200 with 1 Axes>"
      ]
     },
     "metadata": {},
     "output_type": "display_data"
    }
   ],
   "source": [
    "fig = plt.figure(figsize = (8,2))\n",
    "#plt.plot(see2['spectrum'].T[:10000],alpha = 0.8)\n",
    "plt.plot(see2['spectrum'].T[1200:1700],alpha = 0.9)\n",
    "plt.xlabel('index')\n",
    "plt.ylabel('normalized counts')\n"
   ]
  },
  {
   "cell_type": "code",
   "execution_count": 10,
   "id": "bd0fc355-c567-4fa7-bd4b-50ed7332967c",
   "metadata": {},
   "outputs": [],
   "source": [
    "from peak_detection.RangingNN.dataset import build_dataloader\n",
    "\n",
    "loader = build_dataloader(dd, batch=16, workers=4, shuffle=True, rank=-1)"
   ]
  },
  {
   "cell_type": "markdown",
   "id": "18d79e89-4054-4709-82cf-c1d1b42f2d6d",
   "metadata": {},
   "source": [
    "# TRAIN"
   ]
  },
  {
   "cell_type": "code",
   "execution_count": 2,
   "id": "55c72981-ba48-476b-9018-0efacf60d961",
   "metadata": {},
   "outputs": [
    {
     "data": {
      "text/plain": [
       "(False, '2.2.1+cpu')"
      ]
     },
     "execution_count": 2,
     "metadata": {},
     "output_type": "execute_result"
    }
   ],
   "source": [
    "import torch\n",
    "import os,sys\n",
    "import numpy as np\n",
    "import h5py\n",
    "import matplotlib.pyplot as plt\n",
    "sys.path.append('G:/pycharm/apt/')\n",
    "from RangingNN.trainer import BaseTrainer\n",
    "import yaml\n",
    "from pathlib import Path\n",
    "torch.cuda.is_available(),torch.__version__"
   ]
  },
  {
   "cell_type": "code",
   "execution_count": 8,
   "id": "c4cb3612-11d3-4be1-a7ae-f70912a1c490",
   "metadata": {},
   "outputs": [
    {
     "ename": "RuntimeError",
     "evalue": "Could not infer dtype of ellipsis",
     "output_type": "error",
     "traceback": [
      "\u001B[1;31m---------------------------------------------------------------------------\u001B[0m",
      "\u001B[1;31mRuntimeError\u001B[0m                              Traceback (most recent call last)",
      "Cell \u001B[1;32mIn[8], line 1\u001B[0m\n\u001B[1;32m----> 1\u001B[0m pred0 \u001B[38;5;241m=\u001B[39m \u001B[43mtorch\u001B[49m\u001B[38;5;241;43m.\u001B[39;49m\u001B[43mtensor\u001B[49m\u001B[43m(\u001B[49m\u001B[43mpred0\u001B[49m\u001B[43m)\u001B[49m\n",
      "\u001B[1;31mRuntimeError\u001B[0m: Could not infer dtype of ellipsis"
     ]
    }
   ],
   "source": [
    "pred0 = torch.tensor(pred0)"
   ]
  },
  {
   "cell_type": "code",
   "execution_count": 24,
   "id": "35179cea-634f-4952-a995-9a4d97d4a5d9",
   "metadata": {},
   "outputs": [],
   "source": [
    "best = torch.load('D:/APT_notebooks/materials/yolov8n.pt',map_location=torch.device('cpu'))\n",
    "torch.save(best['model'], 'D:/APT_DATA/model_weights/yolov8n.pt')"
   ]
  },
  {
   "cell_type": "code",
   "execution_count": 13,
   "id": "209d7a74-2d48-4b4f-b5d8-c66a6c58fc82",
   "metadata": {},
   "outputs": [],
   "source": [
    "import torch\n",
    "import os,sys\n",
    "import numpy as np\n",
    "import h5py\n",
    "import matplotlib.pyplot as plt\n",
    "sys.path.append('G:/pycharm/apt/')\n",
    "from RangingNN.trainer import BaseTrainer\n",
    "import yaml\n",
    "from pathlib import Path\n",
    "yaml_dict = yaml.safe_load(Path(\"G:/pycharm/apt/RangingNN/cfg/current.yaml\").read_text())\n",
    "\n",
    "trainer = BaseTrainer(cfg=yaml_dict)\n",
    "#trainer.train()\n"
   ]
  },
  {
   "cell_type": "code",
   "execution_count": 17,
   "id": "b778028a-0ad1-4333-8131-3ab79c183b83",
   "metadata": {},
   "outputs": [
    {
     "data": {
      "text/plain": [
       "tensor([ 8., 16., 32.])"
      ]
     },
     "execution_count": 17,
     "metadata": {},
     "output_type": "execute_result"
    }
   ],
   "source": [
    "model.stride"
   ]
  },
  {
   "cell_type": "code",
   "execution_count": 4,
   "id": "53ad745f-6f66-41e0-8b83-699abf9b9269",
   "metadata": {},
   "outputs": [],
   "source": [
    "torch.save(model,'G:/pycharm/apt/peak_detection/RangingNN/cfg/empty.pt')"
   ]
  },
  {
   "cell_type": "code",
   "execution_count": 25,
   "id": "748f6602-5ca7-4aab-9694-b2ccf924f4b8",
   "metadata": {},
   "outputs": [
    {
     "name": "stdout",
     "output_type": "stream",
     "text": [
      "scale='[0.33, 0.25, 512]'.\n"
     ]
    },
    {
     "data": {
      "text/plain": [
       "DetectionModel(\n",
       "  (model): Sequential(\n",
       "    (0): Conv(\n",
       "      (conv): Conv1d(1, 16, kernel_size=(3,), stride=(2,), padding=(1,), bias=False)\n",
       "      (bn): BatchNorm1d(16, eps=0.001, momentum=0.03, affine=True, track_running_stats=True)\n",
       "      (act): SiLU(inplace=True)\n",
       "    )\n",
       "    (1): Conv(\n",
       "      (conv): Conv1d(16, 32, kernel_size=(3,), stride=(2,), padding=(1,), bias=False)\n",
       "      (bn): BatchNorm1d(32, eps=0.001, momentum=0.03, affine=True, track_running_stats=True)\n",
       "      (act): SiLU(inplace=True)\n",
       "    )\n",
       "    (2): C2f(\n",
       "      (cv1): Conv(\n",
       "        (conv): Conv1d(32, 32, kernel_size=(1,), stride=(1,), bias=False)\n",
       "        (bn): BatchNorm1d(32, eps=0.001, momentum=0.03, affine=True, track_running_stats=True)\n",
       "        (act): SiLU(inplace=True)\n",
       "      )\n",
       "      (cv2): Conv(\n",
       "        (conv): Conv1d(48, 32, kernel_size=(1,), stride=(1,), bias=False)\n",
       "        (bn): BatchNorm1d(32, eps=0.001, momentum=0.03, affine=True, track_running_stats=True)\n",
       "        (act): SiLU(inplace=True)\n",
       "      )\n",
       "      (m): ModuleList(\n",
       "        (0): Bottleneck(\n",
       "          (cv1): Conv(\n",
       "            (conv): Conv1d(16, 16, kernel_size=(3,), stride=(1,), padding=(1,), bias=False)\n",
       "            (bn): BatchNorm1d(16, eps=0.001, momentum=0.03, affine=True, track_running_stats=True)\n",
       "            (act): SiLU(inplace=True)\n",
       "          )\n",
       "          (cv2): Conv(\n",
       "            (conv): Conv1d(16, 16, kernel_size=(3,), stride=(1,), padding=(1,), bias=False)\n",
       "            (bn): BatchNorm1d(16, eps=0.001, momentum=0.03, affine=True, track_running_stats=True)\n",
       "            (act): SiLU(inplace=True)\n",
       "          )\n",
       "        )\n",
       "      )\n",
       "    )\n",
       "    (3): Conv(\n",
       "      (conv): Conv1d(32, 64, kernel_size=(3,), stride=(2,), padding=(1,), bias=False)\n",
       "      (bn): BatchNorm1d(64, eps=0.001, momentum=0.03, affine=True, track_running_stats=True)\n",
       "      (act): SiLU(inplace=True)\n",
       "    )\n",
       "    (4): C2f(\n",
       "      (cv1): Conv(\n",
       "        (conv): Conv1d(64, 64, kernel_size=(1,), stride=(1,), bias=False)\n",
       "        (bn): BatchNorm1d(64, eps=0.001, momentum=0.03, affine=True, track_running_stats=True)\n",
       "        (act): SiLU(inplace=True)\n",
       "      )\n",
       "      (cv2): Conv(\n",
       "        (conv): Conv1d(128, 64, kernel_size=(1,), stride=(1,), bias=False)\n",
       "        (bn): BatchNorm1d(64, eps=0.001, momentum=0.03, affine=True, track_running_stats=True)\n",
       "        (act): SiLU(inplace=True)\n",
       "      )\n",
       "      (m): ModuleList(\n",
       "        (0-1): 2 x Bottleneck(\n",
       "          (cv1): Conv(\n",
       "            (conv): Conv1d(32, 32, kernel_size=(3,), stride=(1,), padding=(1,), bias=False)\n",
       "            (bn): BatchNorm1d(32, eps=0.001, momentum=0.03, affine=True, track_running_stats=True)\n",
       "            (act): SiLU(inplace=True)\n",
       "          )\n",
       "          (cv2): Conv(\n",
       "            (conv): Conv1d(32, 32, kernel_size=(3,), stride=(1,), padding=(1,), bias=False)\n",
       "            (bn): BatchNorm1d(32, eps=0.001, momentum=0.03, affine=True, track_running_stats=True)\n",
       "            (act): SiLU(inplace=True)\n",
       "          )\n",
       "        )\n",
       "      )\n",
       "    )\n",
       "    (5): Conv(\n",
       "      (conv): Conv1d(64, 128, kernel_size=(3,), stride=(2,), padding=(1,), bias=False)\n",
       "      (bn): BatchNorm1d(128, eps=0.001, momentum=0.03, affine=True, track_running_stats=True)\n",
       "      (act): SiLU(inplace=True)\n",
       "    )\n",
       "    (6): C2f(\n",
       "      (cv1): Conv(\n",
       "        (conv): Conv1d(128, 128, kernel_size=(1,), stride=(1,), bias=False)\n",
       "        (bn): BatchNorm1d(128, eps=0.001, momentum=0.03, affine=True, track_running_stats=True)\n",
       "        (act): SiLU(inplace=True)\n",
       "      )\n",
       "      (cv2): Conv(\n",
       "        (conv): Conv1d(256, 128, kernel_size=(1,), stride=(1,), bias=False)\n",
       "        (bn): BatchNorm1d(128, eps=0.001, momentum=0.03, affine=True, track_running_stats=True)\n",
       "        (act): SiLU(inplace=True)\n",
       "      )\n",
       "      (m): ModuleList(\n",
       "        (0-1): 2 x Bottleneck(\n",
       "          (cv1): Conv(\n",
       "            (conv): Conv1d(64, 64, kernel_size=(3,), stride=(1,), padding=(1,), bias=False)\n",
       "            (bn): BatchNorm1d(64, eps=0.001, momentum=0.03, affine=True, track_running_stats=True)\n",
       "            (act): SiLU(inplace=True)\n",
       "          )\n",
       "          (cv2): Conv(\n",
       "            (conv): Conv1d(64, 64, kernel_size=(3,), stride=(1,), padding=(1,), bias=False)\n",
       "            (bn): BatchNorm1d(64, eps=0.001, momentum=0.03, affine=True, track_running_stats=True)\n",
       "            (act): SiLU(inplace=True)\n",
       "          )\n",
       "        )\n",
       "      )\n",
       "    )\n",
       "    (7): Conv(\n",
       "      (conv): Conv1d(128, 128, kernel_size=(3,), stride=(2,), padding=(1,), bias=False)\n",
       "      (bn): BatchNorm1d(128, eps=0.001, momentum=0.03, affine=True, track_running_stats=True)\n",
       "      (act): SiLU(inplace=True)\n",
       "    )\n",
       "    (8): C2f(\n",
       "      (cv1): Conv(\n",
       "        (conv): Conv1d(128, 128, kernel_size=(1,), stride=(1,), bias=False)\n",
       "        (bn): BatchNorm1d(128, eps=0.001, momentum=0.03, affine=True, track_running_stats=True)\n",
       "        (act): SiLU(inplace=True)\n",
       "      )\n",
       "      (cv2): Conv(\n",
       "        (conv): Conv1d(192, 128, kernel_size=(1,), stride=(1,), bias=False)\n",
       "        (bn): BatchNorm1d(128, eps=0.001, momentum=0.03, affine=True, track_running_stats=True)\n",
       "        (act): SiLU(inplace=True)\n",
       "      )\n",
       "      (m): ModuleList(\n",
       "        (0): Bottleneck(\n",
       "          (cv1): Conv(\n",
       "            (conv): Conv1d(64, 64, kernel_size=(3,), stride=(1,), padding=(1,), bias=False)\n",
       "            (bn): BatchNorm1d(64, eps=0.001, momentum=0.03, affine=True, track_running_stats=True)\n",
       "            (act): SiLU(inplace=True)\n",
       "          )\n",
       "          (cv2): Conv(\n",
       "            (conv): Conv1d(64, 64, kernel_size=(3,), stride=(1,), padding=(1,), bias=False)\n",
       "            (bn): BatchNorm1d(64, eps=0.001, momentum=0.03, affine=True, track_running_stats=True)\n",
       "            (act): SiLU(inplace=True)\n",
       "          )\n",
       "        )\n",
       "      )\n",
       "    )\n",
       "    (9): SPPF(\n",
       "      (cv1): Conv(\n",
       "        (conv): Conv1d(128, 64, kernel_size=(1,), stride=(1,), bias=False)\n",
       "        (bn): BatchNorm1d(64, eps=0.001, momentum=0.03, affine=True, track_running_stats=True)\n",
       "        (act): SiLU(inplace=True)\n",
       "      )\n",
       "      (cv2): Conv(\n",
       "        (conv): Conv1d(256, 128, kernel_size=(1,), stride=(1,), bias=False)\n",
       "        (bn): BatchNorm1d(128, eps=0.001, momentum=0.03, affine=True, track_running_stats=True)\n",
       "        (act): SiLU(inplace=True)\n",
       "      )\n",
       "      (m): MaxPool1d(kernel_size=5, stride=1, padding=2, dilation=1, ceil_mode=False)\n",
       "    )\n",
       "    (10): Upsample(scale_factor=2.0, mode='nearest')\n",
       "    (11): Concat()\n",
       "    (12): C2f(\n",
       "      (cv1): Conv(\n",
       "        (conv): Conv1d(256, 128, kernel_size=(1,), stride=(1,), bias=False)\n",
       "        (bn): BatchNorm1d(128, eps=0.001, momentum=0.03, affine=True, track_running_stats=True)\n",
       "        (act): SiLU(inplace=True)\n",
       "      )\n",
       "      (cv2): Conv(\n",
       "        (conv): Conv1d(192, 128, kernel_size=(1,), stride=(1,), bias=False)\n",
       "        (bn): BatchNorm1d(128, eps=0.001, momentum=0.03, affine=True, track_running_stats=True)\n",
       "        (act): SiLU(inplace=True)\n",
       "      )\n",
       "      (m): ModuleList(\n",
       "        (0): Bottleneck(\n",
       "          (cv1): Conv(\n",
       "            (conv): Conv1d(64, 64, kernel_size=(3,), stride=(1,), padding=(1,), bias=False)\n",
       "            (bn): BatchNorm1d(64, eps=0.001, momentum=0.03, affine=True, track_running_stats=True)\n",
       "            (act): SiLU(inplace=True)\n",
       "          )\n",
       "          (cv2): Conv(\n",
       "            (conv): Conv1d(64, 64, kernel_size=(3,), stride=(1,), padding=(1,), bias=False)\n",
       "            (bn): BatchNorm1d(64, eps=0.001, momentum=0.03, affine=True, track_running_stats=True)\n",
       "            (act): SiLU(inplace=True)\n",
       "          )\n",
       "        )\n",
       "      )\n",
       "    )\n",
       "    (13): Upsample(scale_factor=2.0, mode='nearest')\n",
       "    (14): Concat()\n",
       "    (15): C2f(\n",
       "      (cv1): Conv(\n",
       "        (conv): Conv1d(192, 64, kernel_size=(1,), stride=(1,), bias=False)\n",
       "        (bn): BatchNorm1d(64, eps=0.001, momentum=0.03, affine=True, track_running_stats=True)\n",
       "        (act): SiLU(inplace=True)\n",
       "      )\n",
       "      (cv2): Conv(\n",
       "        (conv): Conv1d(96, 64, kernel_size=(1,), stride=(1,), bias=False)\n",
       "        (bn): BatchNorm1d(64, eps=0.001, momentum=0.03, affine=True, track_running_stats=True)\n",
       "        (act): SiLU(inplace=True)\n",
       "      )\n",
       "      (m): ModuleList(\n",
       "        (0): Bottleneck(\n",
       "          (cv1): Conv(\n",
       "            (conv): Conv1d(32, 32, kernel_size=(3,), stride=(1,), padding=(1,), bias=False)\n",
       "            (bn): BatchNorm1d(32, eps=0.001, momentum=0.03, affine=True, track_running_stats=True)\n",
       "            (act): SiLU(inplace=True)\n",
       "          )\n",
       "          (cv2): Conv(\n",
       "            (conv): Conv1d(32, 32, kernel_size=(3,), stride=(1,), padding=(1,), bias=False)\n",
       "            (bn): BatchNorm1d(32, eps=0.001, momentum=0.03, affine=True, track_running_stats=True)\n",
       "            (act): SiLU(inplace=True)\n",
       "          )\n",
       "        )\n",
       "      )\n",
       "    )\n",
       "    (16): Conv(\n",
       "      (conv): Conv1d(64, 64, kernel_size=(3,), stride=(2,), padding=(1,), bias=False)\n",
       "      (bn): BatchNorm1d(64, eps=0.001, momentum=0.03, affine=True, track_running_stats=True)\n",
       "      (act): SiLU(inplace=True)\n",
       "    )\n",
       "    (17): Concat()\n",
       "    (18): C2f(\n",
       "      (cv1): Conv(\n",
       "        (conv): Conv1d(192, 128, kernel_size=(1,), stride=(1,), bias=False)\n",
       "        (bn): BatchNorm1d(128, eps=0.001, momentum=0.03, affine=True, track_running_stats=True)\n",
       "        (act): SiLU(inplace=True)\n",
       "      )\n",
       "      (cv2): Conv(\n",
       "        (conv): Conv1d(192, 128, kernel_size=(1,), stride=(1,), bias=False)\n",
       "        (bn): BatchNorm1d(128, eps=0.001, momentum=0.03, affine=True, track_running_stats=True)\n",
       "        (act): SiLU(inplace=True)\n",
       "      )\n",
       "      (m): ModuleList(\n",
       "        (0): Bottleneck(\n",
       "          (cv1): Conv(\n",
       "            (conv): Conv1d(64, 64, kernel_size=(3,), stride=(1,), padding=(1,), bias=False)\n",
       "            (bn): BatchNorm1d(64, eps=0.001, momentum=0.03, affine=True, track_running_stats=True)\n",
       "            (act): SiLU(inplace=True)\n",
       "          )\n",
       "          (cv2): Conv(\n",
       "            (conv): Conv1d(64, 64, kernel_size=(3,), stride=(1,), padding=(1,), bias=False)\n",
       "            (bn): BatchNorm1d(64, eps=0.001, momentum=0.03, affine=True, track_running_stats=True)\n",
       "            (act): SiLU(inplace=True)\n",
       "          )\n",
       "        )\n",
       "      )\n",
       "    )\n",
       "    (19): Conv(\n",
       "      (conv): Conv1d(128, 128, kernel_size=(3,), stride=(2,), padding=(1,), bias=False)\n",
       "      (bn): BatchNorm1d(128, eps=0.001, momentum=0.03, affine=True, track_running_stats=True)\n",
       "      (act): SiLU(inplace=True)\n",
       "    )\n",
       "    (20): Concat()\n",
       "    (21): C2f(\n",
       "      (cv1): Conv(\n",
       "        (conv): Conv1d(256, 128, kernel_size=(1,), stride=(1,), bias=False)\n",
       "        (bn): BatchNorm1d(128, eps=0.001, momentum=0.03, affine=True, track_running_stats=True)\n",
       "        (act): SiLU(inplace=True)\n",
       "      )\n",
       "      (cv2): Conv(\n",
       "        (conv): Conv1d(192, 128, kernel_size=(1,), stride=(1,), bias=False)\n",
       "        (bn): BatchNorm1d(128, eps=0.001, momentum=0.03, affine=True, track_running_stats=True)\n",
       "        (act): SiLU(inplace=True)\n",
       "      )\n",
       "      (m): ModuleList(\n",
       "        (0): Bottleneck(\n",
       "          (cv1): Conv(\n",
       "            (conv): Conv1d(64, 64, kernel_size=(3,), stride=(1,), padding=(1,), bias=False)\n",
       "            (bn): BatchNorm1d(64, eps=0.001, momentum=0.03, affine=True, track_running_stats=True)\n",
       "            (act): SiLU(inplace=True)\n",
       "          )\n",
       "          (cv2): Conv(\n",
       "            (conv): Conv1d(64, 64, kernel_size=(3,), stride=(1,), padding=(1,), bias=False)\n",
       "            (bn): BatchNorm1d(64, eps=0.001, momentum=0.03, affine=True, track_running_stats=True)\n",
       "            (act): SiLU(inplace=True)\n",
       "          )\n",
       "        )\n",
       "      )\n",
       "    )\n",
       "    (22): Detect(\n",
       "      (cv2): ModuleList(\n",
       "        (0): Sequential(\n",
       "          (0): Conv(\n",
       "            (conv): Conv1d(64, 32, kernel_size=(3,), stride=(1,), padding=(1,), bias=False)\n",
       "            (bn): BatchNorm1d(32, eps=0.001, momentum=0.03, affine=True, track_running_stats=True)\n",
       "            (act): SiLU(inplace=True)\n",
       "          )\n",
       "          (1): Conv(\n",
       "            (conv): Conv1d(32, 32, kernel_size=(3,), stride=(1,), padding=(1,), bias=False)\n",
       "            (bn): BatchNorm1d(32, eps=0.001, momentum=0.03, affine=True, track_running_stats=True)\n",
       "            (act): SiLU(inplace=True)\n",
       "          )\n",
       "          (2): Conv1d(32, 32, kernel_size=(1,), stride=(1,))\n",
       "        )\n",
       "        (1-2): 2 x Sequential(\n",
       "          (0): Conv(\n",
       "            (conv): Conv1d(128, 32, kernel_size=(3,), stride=(1,), padding=(1,), bias=False)\n",
       "            (bn): BatchNorm1d(32, eps=0.001, momentum=0.03, affine=True, track_running_stats=True)\n",
       "            (act): SiLU(inplace=True)\n",
       "          )\n",
       "          (1): Conv(\n",
       "            (conv): Conv1d(32, 32, kernel_size=(3,), stride=(1,), padding=(1,), bias=False)\n",
       "            (bn): BatchNorm1d(32, eps=0.001, momentum=0.03, affine=True, track_running_stats=True)\n",
       "            (act): SiLU(inplace=True)\n",
       "          )\n",
       "          (2): Conv1d(32, 32, kernel_size=(1,), stride=(1,))\n",
       "        )\n",
       "      )\n",
       "      (cv3): ModuleList(\n",
       "        (0): Sequential(\n",
       "          (0): Conv(\n",
       "            (conv): Conv1d(64, 64, kernel_size=(3,), stride=(1,), padding=(1,), bias=False)\n",
       "            (bn): BatchNorm1d(64, eps=0.001, momentum=0.03, affine=True, track_running_stats=True)\n",
       "            (act): SiLU(inplace=True)\n",
       "          )\n",
       "          (1): Conv(\n",
       "            (conv): Conv1d(64, 64, kernel_size=(3,), stride=(1,), padding=(1,), bias=False)\n",
       "            (bn): BatchNorm1d(64, eps=0.001, momentum=0.03, affine=True, track_running_stats=True)\n",
       "            (act): SiLU(inplace=True)\n",
       "          )\n",
       "          (2): Conv1d(64, 1, kernel_size=(1,), stride=(1,))\n",
       "        )\n",
       "        (1-2): 2 x Sequential(\n",
       "          (0): Conv(\n",
       "            (conv): Conv1d(128, 64, kernel_size=(3,), stride=(1,), padding=(1,), bias=False)\n",
       "            (bn): BatchNorm1d(64, eps=0.001, momentum=0.03, affine=True, track_running_stats=True)\n",
       "            (act): SiLU(inplace=True)\n",
       "          )\n",
       "          (1): Conv(\n",
       "            (conv): Conv1d(64, 64, kernel_size=(3,), stride=(1,), padding=(1,), bias=False)\n",
       "            (bn): BatchNorm1d(64, eps=0.001, momentum=0.03, affine=True, track_running_stats=True)\n",
       "            (act): SiLU(inplace=True)\n",
       "          )\n",
       "          (2): Conv1d(64, 1, kernel_size=(1,), stride=(1,))\n",
       "        )\n",
       "      )\n",
       "      (dfl): DFL(\n",
       "        (conv): Conv2d(16, 1, kernel_size=(1, 1), stride=(1, 1), bias=False)\n",
       "      )\n",
       "    )\n",
       "  )\n",
       ")"
      ]
     },
     "execution_count": 25,
     "metadata": {},
     "output_type": "execute_result"
    }
   ],
   "source": [
    "from RangingNN.YOLO1D import DetectionModel\n",
    "\n",
    "model = DetectionModel()  # cfg=\"yolov8.yaml\"\n",
    "model"
   ]
  },
  {
   "cell_type": "code",
   "execution_count": 6,
   "id": "4e18ce85-1480-432f-991b-7eea898e3fec",
   "metadata": {},
   "outputs": [
    {
     "data": {
      "text/plain": [
       "(torch.Size([1, 33, 3840]),\n",
       " torch.Size([1, 33, 1920]),\n",
       " torch.Size([1, 33, 960]))"
      ]
     },
     "execution_count": 6,
     "metadata": {},
     "output_type": "execute_result"
    }
   ],
   "source": [
    "out = model(torch.ones((1,1,30720)))\n",
    "out[0].shape,out[1].shape,out[2].shape"
   ]
  },
  {
   "cell_type": "code",
   "execution_count": 7,
   "id": "49daf713-d67a-47ed-b1f8-d00eb8660f7d",
   "metadata": {},
   "outputs": [
    {
     "data": {
      "text/plain": [
       "4"
      ]
     },
     "execution_count": 7,
     "metadata": {},
     "output_type": "execute_result"
    }
   ],
   "source": [
    "batch = [{'a':1,'b':2}]*4\n",
    "values = list(zip(*[list(b.values()) for b in batch]))\n",
    "len(values[0])"
   ]
  },
  {
   "cell_type": "code",
   "execution_count": 6,
   "id": "92636f70-5beb-4492-a036-f7b77d3aa061",
   "metadata": {},
   "outputs": [],
   "source": [
    "bench = torch.load(r'G:\\pycharm\\apt\\materials\\yolov8n.pt')"
   ]
  },
  {
   "cell_type": "code",
   "execution_count": 8,
   "id": "05f74120-2339-42d6-85d6-bb9cd62edf7b",
   "metadata": {},
   "outputs": [
    {
     "ename": "NameError",
     "evalue": "name 'bench' is not defined",
     "output_type": "error",
     "traceback": [
      "\u001B[1;31m---------------------------------------------------------------------------\u001B[0m",
      "\u001B[1;31mNameError\u001B[0m                                 Traceback (most recent call last)",
      "Cell \u001B[1;32mIn[8], line 1\u001B[0m\n\u001B[1;32m----> 1\u001B[0m \u001B[43mbench\u001B[49m[\u001B[38;5;124m'\u001B[39m\u001B[38;5;124mmodel\u001B[39m\u001B[38;5;124m'\u001B[39m]\u001B[38;5;241m.\u001B[39mmodel[\u001B[38;5;241m-\u001B[39m\u001B[38;5;241m1\u001B[39m]\u001B[38;5;241m.\u001B[39mstride\n",
      "\u001B[1;31mNameError\u001B[0m: name 'bench' is not defined"
     ]
    }
   ],
   "source": [
    "bench['model'].model[-1].stride"
   ]
  },
  {
   "cell_type": "code",
   "execution_count": null,
   "id": "2a4af8d4-98f4-4e63-bf5c-6960b670d0f8",
   "metadata": {},
   "outputs": [],
   "source": [
    "gt_bboxes = torch.ones((3, 100,2))\n",
    "mask_gt = gt_bboxes.sum(2, keepdim=True).gt_(0)\n",
    "mask_gt"
   ]
  },
  {
   "cell_type": "code",
   "execution_count": 6,
   "id": "9c3fb5e6-d90c-4b82-912d-e5115591c372",
   "metadata": {},
   "outputs": [
    {
     "name": "stdout",
     "output_type": "stream",
     "text": [
      "torch.Size([3, 32])\n"
     ]
    }
   ],
   "source": [
    "ori = torch.zeros((1,32))\n",
    "see = torch.cat([ori,ori,ori], 0)\n",
    "print(see.shape)\n",
    "for i in range(len(see)):\n",
    "    see[i] += i  # add target image index for build_targets()\n"
   ]
  },
  {
   "cell_type": "code",
   "execution_count": null,
   "id": "e9e64461-6690-4347-a5de-a82197397736",
   "metadata": {},
   "outputs": [],
   "source": [
    "    def preprocess(self, targets, batch_size, scale_tensor):\n",
    "        \"\"\"\n",
    "        preprocess the target so that they are denormalized and in xyxy format\n",
    "        Preprocesses the target counts and matches with the input batch size to output a tensor.\n",
    "        \"\"\"\n",
    "        if targets.shape[0] == 0:\n",
    "            out = torch.zeros(batch_size, 0, 3, device=self.device)\n",
    "        else:\n",
    "            out = targets.deepcopy()\n",
    "            out[..., 1:3] = cw2lh(out[..., 1:3].mul_(scale_tensor))\n",
    "        return out\n"
   ]
  },
  {
   "cell_type": "code",
   "execution_count": null,
   "id": "f5aa507e-a3e3-448f-9ac4-1e2e02f15d1e",
   "metadata": {},
   "outputs": [],
   "source": []
  },
  {
   "cell_type": "markdown",
   "id": "3a1aec7d-5d74-40bc-a0c4-b4e87b92558f",
   "metadata": {},
   "source": [
    "# creat training dataset for classification"
   ]
  },
  {
   "cell_type": "markdown",
   "id": "1ef06134-e4d1-44a1-bf9d-2d2b3ae8cc63",
   "metadata": {},
   "source": [
    "#TODO \n",
    "#remove complex molecule, like AuZn"
   ]
  }
 ],
 "metadata": {
  "kernelspec": {
   "display_name": "Python 3 (ipykernel)",
   "language": "python",
   "name": "python3"
  },
  "language_info": {
   "codemirror_mode": {
    "name": "ipython",
    "version": 3
   },
   "file_extension": ".py",
   "mimetype": "text/x-python",
   "name": "python",
   "nbconvert_exporter": "python",
   "pygments_lexer": "ipython3",
   "version": "3.10.2"
  }
 },
 "nbformat": 4,
 "nbformat_minor": 5
}
